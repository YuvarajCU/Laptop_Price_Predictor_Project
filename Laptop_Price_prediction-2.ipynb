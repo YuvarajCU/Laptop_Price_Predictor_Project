{
 "cells": [
  {
   "cell_type": "markdown",
   "metadata": {
    "id": "djXqAZdDgpRp"
   },
   "source": [
    "#Laptop Price Prediction"
   ]
  },
  {
   "cell_type": "code",
   "execution_count": 5,
   "metadata": {
    "colab": {
     "base_uri": "https://localhost:8080/"
    },
    "id": "iy1fBGNIXQHm",
    "outputId": "e48a2327-92aa-457f-c0b0-40e97443ed6e"
   },
   "outputs": [],
   "source": [
    "import numpy as np\n",
    "import pandas as pd\n",
    "import matplotlib.pyplot as plt\n",
    "import seaborn as sns\n",
    "\n",
    "path='Dataset.csv'\n",
    "df=pd.read_csv(path,encoding='latin-1')"
   ]
  },
  {
   "cell_type": "markdown",
   "metadata": {
    "id": "F2MG9OzX2hT0"
   },
   "source": [
    "##Data Health Review"
   ]
  },
  {
   "cell_type": "code",
   "execution_count": 6,
   "metadata": {
    "colab": {
     "base_uri": "https://localhost:8080/",
     "height": 523
    },
    "id": "DEbCgBixgEvg",
    "outputId": "fb245625-4c7e-428c-a23e-1ffd978974f4"
   },
   "outputs": [
    {
     "data": {
      "text/html": [
       "<div>\n",
       "<style scoped>\n",
       "    .dataframe tbody tr th:only-of-type {\n",
       "        vertical-align: middle;\n",
       "    }\n",
       "\n",
       "    .dataframe tbody tr th {\n",
       "        vertical-align: top;\n",
       "    }\n",
       "\n",
       "    .dataframe thead th {\n",
       "        text-align: right;\n",
       "    }\n",
       "</style>\n",
       "<table border=\"1\" class=\"dataframe\">\n",
       "  <thead>\n",
       "    <tr style=\"text-align: right;\">\n",
       "      <th></th>\n",
       "      <th>laptop_ID</th>\n",
       "      <th>Company</th>\n",
       "      <th>Product</th>\n",
       "      <th>TypeName</th>\n",
       "      <th>Inches</th>\n",
       "      <th>ScreenResolution</th>\n",
       "      <th>Cpu</th>\n",
       "      <th>Ram</th>\n",
       "      <th>Memory</th>\n",
       "      <th>Gpu</th>\n",
       "      <th>OpSys</th>\n",
       "      <th>Weight</th>\n",
       "      <th>Price_euros</th>\n",
       "    </tr>\n",
       "  </thead>\n",
       "  <tbody>\n",
       "    <tr>\n",
       "      <th>1252</th>\n",
       "      <td>1270</td>\n",
       "      <td>Lenovo</td>\n",
       "      <td>IdeaPad 310-15ISK</td>\n",
       "      <td>Notebook</td>\n",
       "      <td>15.6</td>\n",
       "      <td>Full HD 1920x1080</td>\n",
       "      <td>Intel Core i3 6100U 2.3GHz</td>\n",
       "      <td>6GB</td>\n",
       "      <td>128GB SSD</td>\n",
       "      <td>Nvidia GeForce 920MX</td>\n",
       "      <td>Windows 10</td>\n",
       "      <td>2.4kg</td>\n",
       "      <td>569.0</td>\n",
       "    </tr>\n",
       "    <tr>\n",
       "      <th>1189</th>\n",
       "      <td>1207</td>\n",
       "      <td>Acer</td>\n",
       "      <td>Predator G9-793</td>\n",
       "      <td>Gaming</td>\n",
       "      <td>17.3</td>\n",
       "      <td>IPS Panel Full HD 1920x1080</td>\n",
       "      <td>Intel Core i7 7700HQ 2.8GHz</td>\n",
       "      <td>16GB</td>\n",
       "      <td>256GB SSD +  1TB HDD</td>\n",
       "      <td>Nvidia GeForce GTX 1070</td>\n",
       "      <td>Windows 10</td>\n",
       "      <td>4.2kg</td>\n",
       "      <td>2599.0</td>\n",
       "    </tr>\n",
       "    <tr>\n",
       "      <th>59</th>\n",
       "      <td>60</td>\n",
       "      <td>Asus</td>\n",
       "      <td>X541UA-DM1897 (i3-6006U/4GB/256GB/FHD/Linux)</td>\n",
       "      <td>Notebook</td>\n",
       "      <td>15.6</td>\n",
       "      <td>Full HD 1920x1080</td>\n",
       "      <td>Intel Core i3 6006U 2GHz</td>\n",
       "      <td>4GB</td>\n",
       "      <td>256GB SSD</td>\n",
       "      <td>Intel HD Graphics 520</td>\n",
       "      <td>Linux</td>\n",
       "      <td>2kg</td>\n",
       "      <td>415.0</td>\n",
       "    </tr>\n",
       "    <tr>\n",
       "      <th>368</th>\n",
       "      <td>374</td>\n",
       "      <td>Dell</td>\n",
       "      <td>Inspiron 5567</td>\n",
       "      <td>Notebook</td>\n",
       "      <td>15.6</td>\n",
       "      <td>Full HD 1920x1080</td>\n",
       "      <td>Intel Core i7 7500U 2.7GHz</td>\n",
       "      <td>8GB</td>\n",
       "      <td>256GB SSD</td>\n",
       "      <td>AMD Radeon R7 M445</td>\n",
       "      <td>Windows 10</td>\n",
       "      <td>2.33kg</td>\n",
       "      <td>899.0</td>\n",
       "    </tr>\n",
       "    <tr>\n",
       "      <th>1213</th>\n",
       "      <td>1231</td>\n",
       "      <td>Dell</td>\n",
       "      <td>Inspiron 7579</td>\n",
       "      <td>2 in 1 Convertible</td>\n",
       "      <td>15.6</td>\n",
       "      <td>IPS Panel Full HD / Touchscreen 1920x1080</td>\n",
       "      <td>Intel Core i5 7200U 2.5GHz</td>\n",
       "      <td>8GB</td>\n",
       "      <td>256GB SSD</td>\n",
       "      <td>Intel HD Graphics 620</td>\n",
       "      <td>Windows 10</td>\n",
       "      <td>2.191kg</td>\n",
       "      <td>999.0</td>\n",
       "    </tr>\n",
       "  </tbody>\n",
       "</table>\n",
       "</div>"
      ],
      "text/plain": [
       "      laptop_ID Company                                       Product  \\\n",
       "1252       1270  Lenovo                             IdeaPad 310-15ISK   \n",
       "1189       1207    Acer                               Predator G9-793   \n",
       "59           60    Asus  X541UA-DM1897 (i3-6006U/4GB/256GB/FHD/Linux)   \n",
       "368         374    Dell                                 Inspiron 5567   \n",
       "1213       1231    Dell                                 Inspiron 7579   \n",
       "\n",
       "                TypeName  Inches                           ScreenResolution  \\\n",
       "1252            Notebook    15.6                          Full HD 1920x1080   \n",
       "1189              Gaming    17.3                IPS Panel Full HD 1920x1080   \n",
       "59              Notebook    15.6                          Full HD 1920x1080   \n",
       "368             Notebook    15.6                          Full HD 1920x1080   \n",
       "1213  2 in 1 Convertible    15.6  IPS Panel Full HD / Touchscreen 1920x1080   \n",
       "\n",
       "                              Cpu   Ram                Memory  \\\n",
       "1252   Intel Core i3 6100U 2.3GHz   6GB             128GB SSD   \n",
       "1189  Intel Core i7 7700HQ 2.8GHz  16GB  256GB SSD +  1TB HDD   \n",
       "59       Intel Core i3 6006U 2GHz   4GB             256GB SSD   \n",
       "368    Intel Core i7 7500U 2.7GHz   8GB             256GB SSD   \n",
       "1213   Intel Core i5 7200U 2.5GHz   8GB             256GB SSD   \n",
       "\n",
       "                          Gpu       OpSys   Weight  Price_euros  \n",
       "1252     Nvidia GeForce 920MX  Windows 10    2.4kg        569.0  \n",
       "1189  Nvidia GeForce GTX 1070  Windows 10    4.2kg       2599.0  \n",
       "59      Intel HD Graphics 520       Linux      2kg        415.0  \n",
       "368        AMD Radeon R7 M445  Windows 10   2.33kg        899.0  \n",
       "1213    Intel HD Graphics 620  Windows 10  2.191kg        999.0  "
      ]
     },
     "execution_count": 6,
     "metadata": {},
     "output_type": "execute_result"
    }
   ],
   "source": [
    "df.sample(5)"
   ]
  },
  {
   "cell_type": "code",
   "execution_count": 7,
   "metadata": {
    "colab": {
     "base_uri": "https://localhost:8080/"
    },
    "id": "2XA2U1s0gMHW",
    "outputId": "1e5b1fe0-ecdc-4395-d32f-ce8cd29e4019"
   },
   "outputs": [
    {
     "name": "stdout",
     "output_type": "stream",
     "text": [
      "<class 'pandas.core.frame.DataFrame'>\n",
      "RangeIndex: 1303 entries, 0 to 1302\n",
      "Data columns (total 13 columns):\n",
      " #   Column            Non-Null Count  Dtype  \n",
      "---  ------            --------------  -----  \n",
      " 0   laptop_ID         1303 non-null   int64  \n",
      " 1   Company           1303 non-null   object \n",
      " 2   Product           1303 non-null   object \n",
      " 3   TypeName          1303 non-null   object \n",
      " 4   Inches            1303 non-null   float64\n",
      " 5   ScreenResolution  1303 non-null   object \n",
      " 6   Cpu               1303 non-null   object \n",
      " 7   Ram               1303 non-null   object \n",
      " 8   Memory            1303 non-null   object \n",
      " 9   Gpu               1303 non-null   object \n",
      " 10  OpSys             1303 non-null   object \n",
      " 11  Weight            1303 non-null   object \n",
      " 12  Price_euros       1303 non-null   float64\n",
      "dtypes: float64(2), int64(1), object(10)\n",
      "memory usage: 132.5+ KB\n"
     ]
    }
   ],
   "source": [
    "df.info()"
   ]
  },
  {
   "cell_type": "code",
   "execution_count": 8,
   "metadata": {
    "colab": {
     "base_uri": "https://localhost:8080/"
    },
    "id": "mnXH2msml2PH",
    "outputId": "70dc5c11-33d5-48cc-e4f5-16ce03c3e084"
   },
   "outputs": [
    {
     "data": {
      "text/plain": [
       "laptop_ID           0.0\n",
       "Company             0.0\n",
       "Product             0.0\n",
       "TypeName            0.0\n",
       "Inches              0.0\n",
       "ScreenResolution    0.0\n",
       "Cpu                 0.0\n",
       "Ram                 0.0\n",
       "Memory              0.0\n",
       "Gpu                 0.0\n",
       "OpSys               0.0\n",
       "Weight              0.0\n",
       "Price_euros         0.0\n",
       "dtype: float64"
      ]
     },
     "execution_count": 8,
     "metadata": {},
     "output_type": "execute_result"
    }
   ],
   "source": [
    "# Checking percentage of missing values\n",
    "(df.isnull().mean()*100).sort_values(ascending = False)"
   ]
  },
  {
   "cell_type": "code",
   "execution_count": 9,
   "metadata": {
    "colab": {
     "base_uri": "https://localhost:8080/"
    },
    "id": "pCUe4noymJ3n",
    "outputId": "4ee0f3dd-e37d-4ea2-9230-fdd8c9abd16e"
   },
   "outputs": [
    {
     "data": {
      "text/plain": [
       "0"
      ]
     },
     "execution_count": 9,
     "metadata": {},
     "output_type": "execute_result"
    }
   ],
   "source": [
    "df.duplicated().sum()"
   ]
  },
  {
   "cell_type": "code",
   "execution_count": 10,
   "metadata": {
    "colab": {
     "base_uri": "https://localhost:8080/",
     "height": 297
    },
    "id": "qHmj_4CG1ud9",
    "outputId": "c93aca85-0276-4021-eb24-f17453110d68"
   },
   "outputs": [
    {
     "data": {
      "text/html": [
       "<div>\n",
       "<style scoped>\n",
       "    .dataframe tbody tr th:only-of-type {\n",
       "        vertical-align: middle;\n",
       "    }\n",
       "\n",
       "    .dataframe tbody tr th {\n",
       "        vertical-align: top;\n",
       "    }\n",
       "\n",
       "    .dataframe thead th {\n",
       "        text-align: right;\n",
       "    }\n",
       "</style>\n",
       "<table border=\"1\" class=\"dataframe\">\n",
       "  <thead>\n",
       "    <tr style=\"text-align: right;\">\n",
       "      <th></th>\n",
       "      <th>laptop_ID</th>\n",
       "      <th>Inches</th>\n",
       "      <th>Price_euros</th>\n",
       "    </tr>\n",
       "  </thead>\n",
       "  <tbody>\n",
       "    <tr>\n",
       "      <th>count</th>\n",
       "      <td>1303.000000</td>\n",
       "      <td>1303.000000</td>\n",
       "      <td>1303.000000</td>\n",
       "    </tr>\n",
       "    <tr>\n",
       "      <th>mean</th>\n",
       "      <td>660.155794</td>\n",
       "      <td>15.017191</td>\n",
       "      <td>1123.686992</td>\n",
       "    </tr>\n",
       "    <tr>\n",
       "      <th>std</th>\n",
       "      <td>381.172104</td>\n",
       "      <td>1.426304</td>\n",
       "      <td>699.009043</td>\n",
       "    </tr>\n",
       "    <tr>\n",
       "      <th>min</th>\n",
       "      <td>1.000000</td>\n",
       "      <td>10.100000</td>\n",
       "      <td>174.000000</td>\n",
       "    </tr>\n",
       "    <tr>\n",
       "      <th>25%</th>\n",
       "      <td>331.500000</td>\n",
       "      <td>14.000000</td>\n",
       "      <td>599.000000</td>\n",
       "    </tr>\n",
       "    <tr>\n",
       "      <th>50%</th>\n",
       "      <td>659.000000</td>\n",
       "      <td>15.600000</td>\n",
       "      <td>977.000000</td>\n",
       "    </tr>\n",
       "    <tr>\n",
       "      <th>75%</th>\n",
       "      <td>990.500000</td>\n",
       "      <td>15.600000</td>\n",
       "      <td>1487.880000</td>\n",
       "    </tr>\n",
       "    <tr>\n",
       "      <th>max</th>\n",
       "      <td>1320.000000</td>\n",
       "      <td>18.400000</td>\n",
       "      <td>6099.000000</td>\n",
       "    </tr>\n",
       "  </tbody>\n",
       "</table>\n",
       "</div>"
      ],
      "text/plain": [
       "         laptop_ID       Inches  Price_euros\n",
       "count  1303.000000  1303.000000  1303.000000\n",
       "mean    660.155794    15.017191  1123.686992\n",
       "std     381.172104     1.426304   699.009043\n",
       "min       1.000000    10.100000   174.000000\n",
       "25%     331.500000    14.000000   599.000000\n",
       "50%     659.000000    15.600000   977.000000\n",
       "75%     990.500000    15.600000  1487.880000\n",
       "max    1320.000000    18.400000  6099.000000"
      ]
     },
     "execution_count": 10,
     "metadata": {},
     "output_type": "execute_result"
    }
   ],
   "source": [
    "df.describe()"
   ]
  },
  {
   "cell_type": "code",
   "execution_count": 11,
   "metadata": {
    "id": "E61bRiSq21Gf"
   },
   "outputs": [],
   "source": [
    "df.drop(columns=['laptop_ID','Product'],inplace=True)"
   ]
  },
  {
   "cell_type": "markdown",
   "metadata": {
    "id": "dc1iJs-C2rOX"
   },
   "source": [
    "## Data Analysis & Feature Engineering"
   ]
  },
  {
   "cell_type": "markdown",
   "metadata": {
    "id": "sHOdxbKhN9Bd"
   },
   "source": [
    "####Analysis by RAM"
   ]
  },
  {
   "cell_type": "code",
   "execution_count": 12,
   "metadata": {
    "colab": {
     "base_uri": "https://localhost:8080/",
     "height": 333
    },
    "id": "C8DIvQe3gNxj",
    "outputId": "a3c9d337-030f-44b3-b6ff-ac97f6302f9c"
   },
   "outputs": [
    {
     "name": "stderr",
     "output_type": "stream",
     "text": [
      "/Applications/anaconda3/lib/python3.9/site-packages/seaborn/_decorators.py:36: FutureWarning: Pass the following variables as keyword args: x, y. From version 0.12, the only valid positional argument will be `data`, and passing other arguments without an explicit keyword will result in an error or misinterpretation.\n",
      "  warnings.warn(\n"
     ]
    },
    {
     "data": {
      "image/png": "[encoded data removed]",
      "text/plain": [
       "<Figure size 432x288 with 1 Axes>"
      ]
     },
     "metadata": {
      "needs_background": "light"
     },
     "output_type": "display_data"
    }
   ],
   "source": [
    "# Extract the numeric values from the Ram column using regular expressions\n",
    "df['Ram'] = df['Ram'].str.extract('(\\d+)').astype(int)\n",
    "\n",
    "sns.barplot(df['Ram'], df['Price_euros'])\n",
    "plt.show()\n"
   ]
  },
  {
   "cell_type": "code",
   "execution_count": 13,
   "metadata": {
    "colab": {
     "base_uri": "https://localhost:8080/"
    },
    "id": "NKbgGHv6-Aos",
    "outputId": "88ee574f-e7a7-4724-fb58-3e8052009bee"
   },
   "outputs": [
    {
     "data": {
      "text/plain": [
       "count    1303.000000\n",
       "mean        8.382195\n",
       "std         5.084665\n",
       "min         2.000000\n",
       "25%         4.000000\n",
       "50%         8.000000\n",
       "75%         8.000000\n",
       "max        64.000000\n",
       "Name: Ram, dtype: float64"
      ]
     },
     "execution_count": 13,
     "metadata": {},
     "output_type": "execute_result"
    }
   ],
   "source": [
    "df['Ram'].describe()"
   ]
  },
  {
   "cell_type": "markdown",
   "metadata": {
    "id": "lqbvhj2vOMJT"
   },
   "source": [
    "####Analysis by Weight"
   ]
  },
  {
   "cell_type": "code",
   "execution_count": 14,
   "metadata": {
    "colab": {
     "base_uri": "https://localhost:8080/",
     "height": 374
    },
    "id": "UvyUU48zwOcg",
    "outputId": "87610e11-3bd6-4c20-bd8b-ad60238f7384"
   },
   "outputs": [
    {
     "data": {
      "image/png": "[encoded data removed]",
      "text/plain": [
       "<Figure size 540x360 with 1 Axes>"
      ]
     },
     "metadata": {
      "needs_background": "light"
     },
     "output_type": "display_data"
    }
   ],
   "source": [
    "# Extract the numeric values from the Weight column using regular expressions\n",
    "pattern = r'\\d+\\.?\\d*|\\.\\d+'\n",
    "\n",
    "df['Weight'] = df['Weight'].str.extract('(\\d+(?:\\.\\d+)?)').astype(float)\n",
    "\n",
    "df['Weight'] = np.log(df['Weight'])\n",
    "\n",
    "sns.pairplot(df, x_vars=['Weight'], y_vars=['Price_euros'], kind='scatter',height=5,aspect=1.5)\n",
    "plt.show()"
   ]
  },
  {
   "cell_type": "markdown",
   "metadata": {
    "id": "wszgcYd0OqO4"
   },
   "source": [
    "####Analysis by Screen Resolution"
   ]
  },
  {
   "cell_type": "code",
   "execution_count": 15,
   "metadata": {
    "colab": {
     "base_uri": "https://localhost:8080/"
    },
    "id": "lZ7BhZQ220Pf",
    "outputId": "73467314-bdcb-466c-b29d-28b2154c0a40"
   },
   "outputs": [
    {
     "data": {
      "text/plain": [
       "Full HD 1920x1080                                507\n",
       "1366x768                                         281\n",
       "IPS Panel Full HD 1920x1080                      230\n",
       "IPS Panel Full HD / Touchscreen 1920x1080         53\n",
       "Full HD / Touchscreen 1920x1080                   47\n",
       "1600x900                                          23\n",
       "Touchscreen 1366x768                              16\n",
       "Quad HD+ / Touchscreen 3200x1800                  15\n",
       "IPS Panel 4K Ultra HD 3840x2160                   12\n",
       "IPS Panel 4K Ultra HD / Touchscreen 3840x2160     11\n",
       "4K Ultra HD / Touchscreen 3840x2160               10\n",
       "4K Ultra HD 3840x2160                              7\n",
       "Touchscreen 2560x1440                              7\n",
       "IPS Panel 1366x768                                 7\n",
       "IPS Panel Quad HD+ / Touchscreen 3200x1800         6\n",
       "IPS Panel Retina Display 2560x1600                 6\n",
       "IPS Panel Retina Display 2304x1440                 6\n",
       "Touchscreen 2256x1504                              6\n",
       "IPS Panel Touchscreen 2560x1440                    5\n",
       "IPS Panel Retina Display 2880x1800                 4\n",
       "IPS Panel Touchscreen 1920x1200                    4\n",
       "1440x900                                           4\n",
       "IPS Panel 2560x1440                                4\n",
       "IPS Panel Quad HD+ 2560x1440                       3\n",
       "Quad HD+ 3200x1800                                 3\n",
       "1920x1080                                          3\n",
       "Touchscreen 2400x1600                              3\n",
       "2560x1440                                          3\n",
       "IPS Panel Touchscreen 1366x768                     3\n",
       "IPS Panel Touchscreen / 4K Ultra HD 3840x2160      2\n",
       "IPS Panel Full HD 2160x1440                        2\n",
       "IPS Panel Quad HD+ 3200x1800                       2\n",
       "IPS Panel Retina Display 2736x1824                 1\n",
       "IPS Panel Full HD 1920x1200                        1\n",
       "IPS Panel Full HD 2560x1440                        1\n",
       "IPS Panel Full HD 1366x768                         1\n",
       "Touchscreen / Full HD 1920x1080                    1\n",
       "Touchscreen / Quad HD+ 3200x1800                   1\n",
       "Touchscreen / 4K Ultra HD 3840x2160                1\n",
       "IPS Panel Touchscreen 2400x1600                    1\n",
       "Name: ScreenResolution, dtype: int64"
      ]
     },
     "execution_count": 15,
     "metadata": {},
     "output_type": "execute_result"
    }
   ],
   "source": [
    "df['ScreenResolution'].value_counts()"
   ]
  },
  {
   "cell_type": "code",
   "execution_count": 16,
   "metadata": {
    "colab": {
     "base_uri": "https://localhost:8080/",
     "height": 296
    },
    "id": "-h7-dOi3fyOm",
    "outputId": "56ed51c2-9e8d-4121-8293-ea9d67990935"
   },
   "outputs": [
    {
     "data": {
      "text/plain": [
       "<AxesSubplot:xlabel='Touchscreen', ylabel='Price_euros'>"
      ]
     },
     "execution_count": 16,
     "metadata": {},
     "output_type": "execute_result"
    },
    {
     "data": {
      "image/png": "[encoded data removed]",
      "text/plain": [
       "<Figure size 432x288 with 1 Axes>"
      ]
     },
     "metadata": {
      "needs_background": "light"
     },
     "output_type": "display_data"
    }
   ],
   "source": [
    "#how many laptops in data are touchscreen\n",
    "df['Touchscreen'] = df['ScreenResolution'].apply(lambda x:1 if 'Touchscreen' in x else 0)\n",
    "sns.barplot(x=df['Touchscreen'],y=df['Price_euros'])"
   ]
  },
  {
   "cell_type": "code",
   "execution_count": 17,
   "metadata": {
    "colab": {
     "base_uri": "https://localhost:8080/",
     "height": 296
    },
    "id": "DObE8-qjmCZi",
    "outputId": "7cef6508-257d-4855-ede9-fbb7a481452a"
   },
   "outputs": [
    {
     "data": {
      "text/plain": [
       "<AxesSubplot:xlabel='Ips', ylabel='Price_euros'>"
      ]
     },
     "execution_count": 17,
     "metadata": {},
     "output_type": "execute_result"
    },
    {
     "data": {
      "image/png": "[encoded data removed]",
      "text/plain": [
       "<Figure size 432x288 with 1 Axes>"
      ]
     },
     "metadata": {
      "needs_background": "light"
     },
     "output_type": "display_data"
    }
   ],
   "source": [
    "#extract IPS column\n",
    "df['Ips'] = df['ScreenResolution'].apply(lambda x:1 if 'IPS' in x else 0)\n",
    "sns.barplot(x=df['Ips'],y=df['Price_euros'])"
   ]
  },
  {
   "cell_type": "code",
   "execution_count": 18,
   "metadata": {
    "id": "bgLuI7PenhVn"
   },
   "outputs": [],
   "source": [
    "def findXresolution(s):\n",
    "  return s.split()[-1].split(\"x\")[0]\n",
    "def findYresolution(s):\n",
    "  return s.split()[-1].split(\"x\")[1]\n",
    "\n",
    "#finding the x_res and y_res from screen resolution\n",
    "df['X_res'] = df['ScreenResolution'].apply(lambda x: findXresolution(x))\n",
    "df['Y_res'] = df['ScreenResolution'].apply(lambda y: findYresolution(y))\n",
    "\n",
    "#convert to numeric\n",
    "df['X_res'] = df['X_res'].astype('int')\n",
    "df['Y_res'] = df['Y_res'].astype('int')\n",
    "\n",
    "#Replacing inches, X and Y resolution to PPI\n",
    "df['ppi'] = (((df['X_res']**2) + (df['Y_res']**2))**0.5/df['Inches']).astype('float')\n",
    "df.corr()['Price_euros'].sort_values(ascending=False)\n",
    "df.drop(columns = ['ScreenResolution', 'Inches','X_res','Y_res'], inplace=True)\n",
    "\n"
   ]
  },
  {
   "cell_type": "code",
   "execution_count": 19,
   "metadata": {
    "colab": {
     "base_uri": "https://localhost:8080/",
     "height": 391
    },
    "id": "AWNKpfo5Hc0Q",
    "outputId": "32f28b71-6899-46b2-807e-e668f5516d0e"
   },
   "outputs": [
    {
     "data": {
      "text/plain": [
       "<seaborn.axisgrid.PairGrid at 0x7f96b055cfd0>"
      ]
     },
     "execution_count": 19,
     "metadata": {},
     "output_type": "execute_result"
    },
    {
     "data": {
      "image/png": "[encoded data removed]",
      "text/plain": [
       "<Figure size 540x360 with 1 Axes>"
      ]
     },
     "metadata": {
      "needs_background": "light"
     },
     "output_type": "display_data"
    }
   ],
   "source": [
    "df['ppi']=np.log(df['ppi'])\n",
    "sns.pairplot(df, x_vars=['ppi'], y_vars=['Price_euros'], kind='scatter',height=5,aspect=1.5)"
   ]
  },
  {
   "cell_type": "markdown",
   "metadata": {
    "id": "te3QrEBZPI5h"
   },
   "source": [
    "####Analysis by Processor brand"
   ]
  },
  {
   "cell_type": "code",
   "execution_count": 20,
   "metadata": {
    "colab": {
     "base_uri": "https://localhost:8080/",
     "height": 375
    },
    "id": "enGZ7HNFsA2H",
    "outputId": "97fea265-3d1e-49d5-b205-a3eb43e8595e"
   },
   "outputs": [
    {
     "data": {
      "image/png": "[encoded data removed]",
      "text/plain": [
       "<Figure size 432x288 with 1 Axes>"
      ]
     },
     "metadata": {
      "needs_background": "light"
     },
     "output_type": "display_data"
    }
   ],
   "source": [
    "def fetch_processor(x):\n",
    "  cpu_name = \" \".join(x.split()[0:3])\n",
    "  if cpu_name == 'Intel Core i7' or cpu_name == 'Intel Core i5' or cpu_name == 'Intel Core i3':\n",
    "    return cpu_name\n",
    "  elif cpu_name.split()[0] == 'Intel':\n",
    "    return 'Other Intel Processor'\n",
    "  elif cpu_name.split()[0] == 'AMD':\n",
    "      return 'AMD Processor'\n",
    "  else:\n",
    "    return 'Samsung processor'\n",
    "\n",
    "df['Cpu_brand'] = df['Cpu'].apply(lambda x: fetch_processor(x))\n",
    "\n",
    "sns.barplot(x=df['Cpu_brand'],y=df['Price_euros'])\n",
    "plt.xticks(rotation='vertical')\n",
    "plt.show()\n",
    "df.drop(columns=['Cpu'],inplace=True)"
   ]
  },
  {
   "cell_type": "markdown",
   "metadata": {
    "id": "Kp-DBGB3PRgo"
   },
   "source": [
    "####Analysis by Memory"
   ]
  },
  {
   "cell_type": "code",
   "execution_count": 21,
   "metadata": {
    "colab": {
     "base_uri": "https://localhost:8080/"
    },
    "id": "937qQB5kQTs1",
    "outputId": "c596c9c7-0664-4800-adfb-91770aebe38f"
   },
   "outputs": [
    {
     "name": "stderr",
     "output_type": "stream",
     "text": [
      "/var/folders/t3/5wzkvh2s6rx6pz0mjnc1zp700000gn/T/ipykernel_7580/4023190604.py:16: FutureWarning: The default value of regex will change from True to False in a future version.\n",
      "  df['first'] = df['first'].str.replace(r'\\D', '')\n",
      "/var/folders/t3/5wzkvh2s6rx6pz0mjnc1zp700000gn/T/ipykernel_7580/4023190604.py:25: FutureWarning: The default value of regex will change from True to False in a future version.\n",
      "  df['second'] = df['second'].str.replace(r'\\D', '')\n"
     ]
    }
   ],
   "source": [
    "df['Memory'] = df['Memory'].astype(str).replace('\\.0', '', regex=True)\n",
    "df[\"Memory\"] = df[\"Memory\"].str.replace('GB', '')\n",
    "df[\"Memory\"] = df[\"Memory\"].str.replace('TB', '000')\n",
    "new = df[\"Memory\"].str.split(\"+\", n = 1, expand = True)\n",
    "\n",
    "df[\"first\"]= new[0]\n",
    "df[\"first\"]=df[\"first\"].str.strip()\n",
    "\n",
    "df[\"second\"]= new[1]\n",
    "\n",
    "df[\"Layer1HDD\"] = df[\"first\"].apply(lambda x: 1 if \"HDD\" in x else 0)\n",
    "df[\"Layer1SSD\"] = df[\"first\"].apply(lambda x: 1 if \"SSD\" in x else 0)\n",
    "df[\"Layer1Hybrid\"] = df[\"first\"].apply(lambda x: 1 if \"Hybrid\" in x else 0)\n",
    "df[\"Layer1Flash_Storage\"] = df[\"first\"].apply(lambda x: 1 if \"Flash Storage\" in x else 0)\n",
    "\n",
    "df['first'] = df['first'].str.replace(r'\\D', '')\n",
    "\n",
    "df[\"second\"].fillna(\"0\", inplace = True)\n",
    "\n",
    "df[\"Layer2HDD\"] = df[\"second\"].apply(lambda x: 1 if \"HDD\" in x else 0)\n",
    "df[\"Layer2SSD\"] = df[\"second\"].apply(lambda x: 1 if \"SSD\" in x else 0)\n",
    "df[\"Layer2Hybrid\"] = df[\"second\"].apply(lambda x: 1 if \"Hybrid\" in x else 0)\n",
    "df[\"Layer2Flash_Storage\"] = df[\"second\"].apply(lambda x: 1 if \"Flash Storage\" in x else 0)\n",
    "\n",
    "df['second'] = df['second'].str.replace(r'\\D', '')\n",
    "\n",
    "df[\"first\"] = df[\"first\"].astype(int)\n",
    "df[\"second\"] = df[\"second\"].astype(int)\n",
    "\n",
    "df[\"HDD\"]=(df[\"first\"]*df[\"Layer1HDD\"]+df[\"second\"]*df[\"Layer2HDD\"])\n",
    "df[\"SSD\"]=(df[\"first\"]*df[\"Layer1SSD\"]+df[\"second\"]*df[\"Layer2SSD\"])\n",
    "df[\"Hybrid\"]=(df[\"first\"]*df[\"Layer1Hybrid\"]+df[\"second\"]*df[\"Layer2Hybrid\"])\n",
    "df[\"Flash_Storage\"]=(df[\"first\"]*df[\"Layer1Flash_Storage\"]+df[\"second\"]*df[\"Layer2Flash_Storage\"])\n",
    "\n",
    "df.drop(columns=['first', 'second', 'Layer1HDD', 'Layer1SSD', 'Layer1Hybrid',\n",
    "       'Layer1Flash_Storage', 'Layer2HDD', 'Layer2SSD', 'Layer2Hybrid',\n",
    "       'Layer2Flash_Storage'],inplace=True)"
   ]
  },
  {
   "cell_type": "code",
   "execution_count": 22,
   "metadata": {
    "id": "B1wdFK7kRK-k"
   },
   "outputs": [],
   "source": [
    "df.drop(columns=['Memory','Hybrid','Flash_Storage'],inplace=True)"
   ]
  },
  {
   "cell_type": "code",
   "execution_count": 23,
   "metadata": {
    "colab": {
     "base_uri": "https://localhost:8080/",
     "height": 489
    },
    "id": "8Lqs_0l9QjYM",
    "outputId": "f1454ff2-af47-454b-c31f-81d73dc906d4"
   },
   "outputs": [
    {
     "data": {
      "text/html": [
       "<div>\n",
       "<style scoped>\n",
       "    .dataframe tbody tr th:only-of-type {\n",
       "        vertical-align: middle;\n",
       "    }\n",
       "\n",
       "    .dataframe tbody tr th {\n",
       "        vertical-align: top;\n",
       "    }\n",
       "\n",
       "    .dataframe thead th {\n",
       "        text-align: right;\n",
       "    }\n",
       "</style>\n",
       "<table border=\"1\" class=\"dataframe\">\n",
       "  <thead>\n",
       "    <tr style=\"text-align: right;\">\n",
       "      <th></th>\n",
       "      <th>Company</th>\n",
       "      <th>TypeName</th>\n",
       "      <th>Ram</th>\n",
       "      <th>Gpu</th>\n",
       "      <th>OpSys</th>\n",
       "      <th>Weight</th>\n",
       "      <th>Price_euros</th>\n",
       "      <th>Touchscreen</th>\n",
       "      <th>Ips</th>\n",
       "      <th>ppi</th>\n",
       "      <th>Cpu_brand</th>\n",
       "      <th>HDD</th>\n",
       "      <th>SSD</th>\n",
       "    </tr>\n",
       "  </thead>\n",
       "  <tbody>\n",
       "    <tr>\n",
       "      <th>1142</th>\n",
       "      <td>HP</td>\n",
       "      <td>2 in 1 Convertible</td>\n",
       "      <td>8</td>\n",
       "      <td>Intel HD Graphics 520</td>\n",
       "      <td>Windows 10</td>\n",
       "      <td>0.392042</td>\n",
       "      <td>1629.00</td>\n",
       "      <td>1</td>\n",
       "      <td>0</td>\n",
       "      <td>5.109769</td>\n",
       "      <td>Intel Core i5</td>\n",
       "      <td>0</td>\n",
       "      <td>256</td>\n",
       "    </tr>\n",
       "    <tr>\n",
       "      <th>975</th>\n",
       "      <td>HP</td>\n",
       "      <td>Notebook</td>\n",
       "      <td>8</td>\n",
       "      <td>Nvidia GeForce 930MX</td>\n",
       "      <td>Windows 10</td>\n",
       "      <td>0.712950</td>\n",
       "      <td>979.00</td>\n",
       "      <td>0</td>\n",
       "      <td>1</td>\n",
       "      <td>4.950262</td>\n",
       "      <td>Intel Core i5</td>\n",
       "      <td>1000</td>\n",
       "      <td>128</td>\n",
       "    </tr>\n",
       "    <tr>\n",
       "      <th>38</th>\n",
       "      <td>HP</td>\n",
       "      <td>Notebook</td>\n",
       "      <td>4</td>\n",
       "      <td>Intel HD Graphics 620</td>\n",
       "      <td>Windows 10</td>\n",
       "      <td>0.620576</td>\n",
       "      <td>488.69</td>\n",
       "      <td>0</td>\n",
       "      <td>0</td>\n",
       "      <td>4.609707</td>\n",
       "      <td>Intel Core i5</td>\n",
       "      <td>1000</td>\n",
       "      <td>0</td>\n",
       "    </tr>\n",
       "    <tr>\n",
       "      <th>284</th>\n",
       "      <td>Acer</td>\n",
       "      <td>Notebook</td>\n",
       "      <td>8</td>\n",
       "      <td>Nvidia GeForce MX150</td>\n",
       "      <td>Windows 10</td>\n",
       "      <td>1.098612</td>\n",
       "      <td>951.00</td>\n",
       "      <td>0</td>\n",
       "      <td>1</td>\n",
       "      <td>4.950262</td>\n",
       "      <td>Intel Core i7</td>\n",
       "      <td>0</td>\n",
       "      <td>256</td>\n",
       "    </tr>\n",
       "    <tr>\n",
       "      <th>1028</th>\n",
       "      <td>Dell</td>\n",
       "      <td>Ultrabook</td>\n",
       "      <td>8</td>\n",
       "      <td>Intel HD Graphics 620</td>\n",
       "      <td>Windows 10</td>\n",
       "      <td>0.254642</td>\n",
       "      <td>1624.00</td>\n",
       "      <td>1</td>\n",
       "      <td>0</td>\n",
       "      <td>5.620595</td>\n",
       "      <td>Intel Core i5</td>\n",
       "      <td>0</td>\n",
       "      <td>256</td>\n",
       "    </tr>\n",
       "  </tbody>\n",
       "</table>\n",
       "</div>"
      ],
      "text/plain": [
       "     Company            TypeName  Ram                    Gpu       OpSys  \\\n",
       "1142      HP  2 in 1 Convertible    8  Intel HD Graphics 520  Windows 10   \n",
       "975       HP            Notebook    8   Nvidia GeForce 930MX  Windows 10   \n",
       "38        HP            Notebook    4  Intel HD Graphics 620  Windows 10   \n",
       "284     Acer            Notebook    8   Nvidia GeForce MX150  Windows 10   \n",
       "1028    Dell           Ultrabook    8  Intel HD Graphics 620  Windows 10   \n",
       "\n",
       "        Weight  Price_euros  Touchscreen  Ips       ppi      Cpu_brand   HDD  \\\n",
       "1142  0.392042      1629.00            1    0  5.109769  Intel Core i5     0   \n",
       "975   0.712950       979.00            0    1  4.950262  Intel Core i5  1000   \n",
       "38    0.620576       488.69            0    0  4.609707  Intel Core i5  1000   \n",
       "284   1.098612       951.00            0    1  4.950262  Intel Core i7     0   \n",
       "1028  0.254642      1624.00            1    0  5.620595  Intel Core i5     0   \n",
       "\n",
       "      SSD  \n",
       "1142  256  \n",
       "975   128  \n",
       "38      0  \n",
       "284   256  \n",
       "1028  256  "
      ]
     },
     "execution_count": 23,
     "metadata": {},
     "output_type": "execute_result"
    }
   ],
   "source": [
    "df.sample(5)"
   ]
  },
  {
   "cell_type": "markdown",
   "metadata": {
    "id": "Jnb97sZfBFyi"
   },
   "source": [
    "####Analysis by Gpu"
   ]
  },
  {
   "cell_type": "code",
   "execution_count": 24,
   "metadata": {
    "colab": {
     "base_uri": "https://localhost:8080/"
    },
    "id": "LA6uETEu1bW4",
    "outputId": "ca9d29d2-6969-4d60-ed5d-efa48cd60b88"
   },
   "outputs": [
    {
     "data": {
      "text/plain": [
       "Intel HD Graphics 620      281\n",
       "Intel HD Graphics 520      185\n",
       "Intel UHD Graphics 620      68\n",
       "Nvidia GeForce GTX 1050     66\n",
       "Nvidia GeForce GTX 1060     48\n",
       "                          ... \n",
       "AMD Radeon R5 520            1\n",
       "AMD Radeon R7                1\n",
       "Intel HD Graphics 540        1\n",
       "AMD Radeon 540               1\n",
       "ARM Mali T860 MP4            1\n",
       "Name: Gpu, Length: 110, dtype: int64"
      ]
     },
     "execution_count": 24,
     "metadata": {},
     "output_type": "execute_result"
    }
   ],
   "source": [
    "df['Gpu'].value_counts()"
   ]
  },
  {
   "cell_type": "code",
   "execution_count": 25,
   "metadata": {
    "colab": {
     "base_uri": "https://localhost:8080/",
     "height": 407
    },
    "id": "h68-o-arAvYE",
    "outputId": "55ecf78a-79be-45b6-e72e-63f5afd4a30e"
   },
   "outputs": [
    {
     "name": "stderr",
     "output_type": "stream",
     "text": [
      "/Applications/anaconda3/lib/python3.9/site-packages/pandas/core/frame.py:4906: SettingWithCopyWarning: \n",
      "A value is trying to be set on a copy of a slice from a DataFrame\n",
      "\n",
      "See the caveats in the documentation: https://pandas.pydata.org/pandas-docs/stable/user_guide/indexing.html#returning-a-view-versus-a-copy\n",
      "  return super().drop(\n"
     ]
    },
    {
     "data": {
      "image/png": "[encoded data removed]",
      "text/plain": [
       "<Figure size 432x288 with 1 Axes>"
      ]
     },
     "metadata": {
      "needs_background": "light"
     },
     "output_type": "display_data"
    }
   ],
   "source": [
    "# Which brand GPU is in laptop\n",
    "df['Gpu_brand'] = df['Gpu'].apply(lambda x:x.split()[0])\n",
    "#there is only 1 row of ARM GPU so remove it\n",
    "df = df[df['Gpu_brand'] != 'ARM']\n",
    "df.drop(columns=['Gpu'],inplace=True)\n",
    "\n",
    "sns.barplot(x=df['Gpu_brand'],y=df['Price_euros'])\n",
    "plt.xticks(rotation='vertical')\n",
    "plt.show()"
   ]
  },
  {
   "cell_type": "markdown",
   "metadata": {
    "id": "OEQOprglxl1i"
   },
   "source": [
    "#### Analysis by Company"
   ]
  },
  {
   "cell_type": "code",
   "execution_count": 26,
   "metadata": {
    "colab": {
     "base_uri": "https://localhost:8080/",
     "height": 428
    },
    "id": "WY1SwVKTxrTz",
    "outputId": "b4b8a68d-3655-4d1b-dc09-901e0b008d46"
   },
   "outputs": [
    {
     "data": {
      "text/plain": [
       "<seaborn.axisgrid.FacetGrid at 0x7f96b8659f10>"
      ]
     },
     "execution_count": 26,
     "metadata": {},
     "output_type": "execute_result"
    },
    {
     "data": {
      "image/png": "[encoded data removed]",
      "text/plain": [
       "<Figure size 540x360 with 1 Axes>"
      ]
     },
     "metadata": {
      "needs_background": "light"
     },
     "output_type": "display_data"
    }
   ],
   "source": [
    "counts = df['Company'].value_counts()\n",
    "mask = counts < 5\n",
    "to_remove = counts[mask].index.tolist()\n",
    "df = df[~df['Company'].isin(to_remove)]\n",
    "sns.catplot(x='Company', y='Price_euros', kind='bar', data=df,height=5,aspect=1.5).set_xticklabels(rotation=90)"
   ]
  },
  {
   "cell_type": "markdown",
   "metadata": {
    "id": "uXwYpMnsPVV_"
   },
   "source": [
    "####Analysis by Typename & OpSys"
   ]
  },
  {
   "cell_type": "code",
   "execution_count": 27,
   "metadata": {
    "colab": {
     "base_uri": "https://localhost:8080/",
     "height": 860
    },
    "id": "D2iz92DOldv9",
    "outputId": "77f75a34-b963-4473-bdaa-d3c5b55c6e98"
   },
   "outputs": [
    {
     "data": {
      "image/png": "[encoded data removed]",
      "text/plain": [
       "<Figure size 360x360 with 1 Axes>"
      ]
     },
     "metadata": {
      "needs_background": "light"
     },
     "output_type": "display_data"
    },
    {
     "data": {
      "image/png": "[encoded data removed]",
      "text/plain": [
       "<Figure size 360x360 with 1 Axes>"
      ]
     },
     "metadata": {
      "needs_background": "light"
     },
     "output_type": "display_data"
    }
   ],
   "source": [
    "sns.catplot(x='TypeName', y='Price_euros', kind='bar', data=df).set_xticklabels(rotation=90)\n",
    "sns.catplot(x='OpSys', y='Price_euros', kind='bar', data=df).set_xticklabels(rotation=90)\n",
    "\n",
    "plt.show()\n"
   ]
  },
  {
   "cell_type": "markdown",
   "metadata": {
    "id": "CxSQCg_U2AeR"
   },
   "source": []
  },
  {
   "cell_type": "markdown",
   "metadata": {
    "id": "iytAb_GNm0NY"
   },
   "source": [
    "#### Summary of Data Analysis\n",
    "\n",
    "As our primary motive is to train, test and predict the price of the laptops based on this dataset,a comprehensive Analysis of the various variables of the dataset are done against the Price data.\n",
    "\n",
    "These are the changes made in order to make the analysis more efficient and effective:\n",
    "\n",
    "\n",
    "\n",
    "1. The Data in **Ram & Weight** variables were made numerical by removing their respective units\n",
    "2. The **ScreenResolution** Varaible has been split into 3 variables- **Tourchscreen, Ips & ppi(resolution) **\n",
    "3. **Cpu & Gpu** variables were used to get **Cpu_brand & Gpu_brand** variables\n",
    "4. The **Memory** Variable were used to get various information and finally made into two variables- **SSD & HDD**, containing the size of the memory in each respectively.\n",
    "5. The variable **Company** had **more unique values** and few of those were made very few observations in the dataset, as removing such least observed company data help us to reduce the overfitting while performing the Linear regression through encoding, we have removed company data that had less than 5 observations\n",
    "6. Later, the variables - **Memory, Cpu, Gpu, ScreenResolution** were removed,while the variables **Laptop ID & Product** were removed as they had least use for the model building.\n",
    "7. The distribution of data of variable **Weight is normalised** using log function to have a better distribution of the data.\n"
   ]
  },
  {
   "cell_type": "code",
   "execution_count": 28,
   "metadata": {
    "colab": {
     "base_uri": "https://localhost:8080/"
    },
    "id": "fkkh_Zk2wcKA",
    "outputId": "f522cdcc-4f55-401c-a9be-6bd0ac6fc6fe"
   },
   "outputs": [
    {
     "name": "stdout",
     "output_type": "stream",
     "text": [
      "The Categorical variables are : \n",
      "  ['Company', 'TypeName', 'OpSys', 'Cpu_brand', 'Gpu_brand']\n"
     ]
    }
   ],
   "source": [
    "categorical = [col for col in df.columns if df[col].dtypes == 'O']\n",
    "print('The Categorical variables are : \\n ', categorical)"
   ]
  },
  {
   "cell_type": "code",
   "execution_count": 29,
   "metadata": {
    "colab": {
     "base_uri": "https://localhost:8080/"
    },
    "id": "wWVS-nnJwdzL",
    "outputId": "bac3accb-bac1-4d87-a4bd-10fe8fd1ddb6"
   },
   "outputs": [
    {
     "name": "stdout",
     "output_type": "stream",
     "text": [
      "The Numerical variables are : \n",
      "  ['Ram', 'Weight', 'Price_euros', 'Touchscreen', 'Ips', 'ppi', 'HDD', 'SSD']\n"
     ]
    }
   ],
   "source": [
    "Numerical = [col for col in df.columns if (df[col].dtypes == 'int64') or (df[col].dtypes == 'float64') ]\n",
    "print('The Numerical variables are : \\n ', Numerical)"
   ]
  },
  {
   "cell_type": "code",
   "execution_count": 30,
   "metadata": {
    "colab": {
     "base_uri": "https://localhost:8080/",
     "height": 257
    },
    "id": "Z3hapSGz8JPj",
    "outputId": "664bd439-e5d0-48b5-8c27-9969c19bbb1d"
   },
   "outputs": [
    {
     "data": {
      "text/html": [
       "<div>\n",
       "<style scoped>\n",
       "    .dataframe tbody tr th:only-of-type {\n",
       "        vertical-align: middle;\n",
       "    }\n",
       "\n",
       "    .dataframe tbody tr th {\n",
       "        vertical-align: top;\n",
       "    }\n",
       "\n",
       "    .dataframe thead th {\n",
       "        text-align: right;\n",
       "    }\n",
       "</style>\n",
       "<table border=\"1\" class=\"dataframe\">\n",
       "  <thead>\n",
       "    <tr style=\"text-align: right;\">\n",
       "      <th></th>\n",
       "      <th>Company</th>\n",
       "      <th>TypeName</th>\n",
       "      <th>Ram</th>\n",
       "      <th>OpSys</th>\n",
       "      <th>Weight</th>\n",
       "      <th>Price_euros</th>\n",
       "      <th>Touchscreen</th>\n",
       "      <th>Ips</th>\n",
       "      <th>ppi</th>\n",
       "      <th>Cpu_brand</th>\n",
       "      <th>HDD</th>\n",
       "      <th>SSD</th>\n",
       "      <th>Gpu_brand</th>\n",
       "    </tr>\n",
       "  </thead>\n",
       "  <tbody>\n",
       "    <tr>\n",
       "      <th>1016</th>\n",
       "      <td>HP</td>\n",
       "      <td>Notebook</td>\n",
       "      <td>4</td>\n",
       "      <td>Windows 10</td>\n",
       "      <td>0.712950</td>\n",
       "      <td>769.99</td>\n",
       "      <td>0</td>\n",
       "      <td>0</td>\n",
       "      <td>4.609707</td>\n",
       "      <td>Intel Core i3</td>\n",
       "      <td>0</td>\n",
       "      <td>256</td>\n",
       "      <td>Intel</td>\n",
       "    </tr>\n",
       "    <tr>\n",
       "      <th>828</th>\n",
       "      <td>Acer</td>\n",
       "      <td>Netbook</td>\n",
       "      <td>4</td>\n",
       "      <td>Chrome OS</td>\n",
       "      <td>0.300105</td>\n",
       "      <td>355.00</td>\n",
       "      <td>0</td>\n",
       "      <td>1</td>\n",
       "      <td>4.905972</td>\n",
       "      <td>Other Intel Processor</td>\n",
       "      <td>0</td>\n",
       "      <td>0</td>\n",
       "      <td>Intel</td>\n",
       "    </tr>\n",
       "    <tr>\n",
       "      <th>739</th>\n",
       "      <td>Acer</td>\n",
       "      <td>Notebook</td>\n",
       "      <td>4</td>\n",
       "      <td>Windows 10</td>\n",
       "      <td>0.875469</td>\n",
       "      <td>410.80</td>\n",
       "      <td>0</td>\n",
       "      <td>0</td>\n",
       "      <td>4.609707</td>\n",
       "      <td>Intel Core i3</td>\n",
       "      <td>500</td>\n",
       "      <td>0</td>\n",
       "      <td>Intel</td>\n",
       "    </tr>\n",
       "  </tbody>\n",
       "</table>\n",
       "</div>"
      ],
      "text/plain": [
       "     Company  TypeName  Ram       OpSys    Weight  Price_euros  Touchscreen  \\\n",
       "1016      HP  Notebook    4  Windows 10  0.712950       769.99            0   \n",
       "828     Acer   Netbook    4   Chrome OS  0.300105       355.00            0   \n",
       "739     Acer  Notebook    4  Windows 10  0.875469       410.80            0   \n",
       "\n",
       "      Ips       ppi              Cpu_brand  HDD  SSD Gpu_brand  \n",
       "1016    0  4.609707          Intel Core i3    0  256     Intel  \n",
       "828     1  4.905972  Other Intel Processor    0    0     Intel  \n",
       "739     0  4.609707          Intel Core i3  500    0     Intel  "
      ]
     },
     "execution_count": 30,
     "metadata": {},
     "output_type": "execute_result"
    }
   ],
   "source": [
    "df.sample(3)"
   ]
  },
  {
   "cell_type": "markdown",
   "metadata": {
    "id": "-111q-m7BQ3b"
   },
   "source": [
    "##Model Building"
   ]
  },
  {
   "cell_type": "markdown",
   "metadata": {
    "id": "zxgXG6KVDMft"
   },
   "source": [
    "####Correlation & VIF"
   ]
  },
  {
   "cell_type": "code",
   "execution_count": 31,
   "metadata": {
    "colab": {
     "base_uri": "https://localhost:8080/",
     "height": 715
    },
    "id": "UAPYmfnUwdUC",
    "outputId": "4358bdd2-bc2b-4a80-e594-f92fd3a2b024"
   },
   "outputs": [
    {
     "name": "stdout",
     "output_type": "stream",
     "text": [
      "                  Ram    Weight  Price_euros  Touchscreen       Ips       ppi  \\\n",
      "Ram          1.000000  0.294918     0.742757     0.113817  0.208144  0.323767   \n",
      "Weight       0.294918  1.000000     0.105604    -0.333076 -0.036143 -0.410490   \n",
      "Price_euros  0.742757  0.105604     1.000000     0.185204  0.252234  0.504313   \n",
      "Touchscreen  0.113817 -0.333076     0.185204     1.000000  0.152308  0.440306   \n",
      "Ips          0.208144 -0.036143     0.252234     0.152308  1.000000  0.329657   \n",
      "ppi          0.323767 -0.410490     0.504313     0.440306  0.329657  1.000000   \n",
      "HDD          0.094914  0.538072    -0.099262    -0.208788 -0.087500 -0.323183   \n",
      "SSD          0.603664 -0.122717     0.667067     0.252600  0.219931  0.542120   \n",
      "\n",
      "                  HDD       SSD  \n",
      "Ram          0.094914  0.603664  \n",
      "Weight       0.538072 -0.122717  \n",
      "Price_euros -0.099262  0.667067  \n",
      "Touchscreen -0.208788  0.252600  \n",
      "Ips         -0.087500  0.219931  \n",
      "ppi         -0.323183  0.542120  \n",
      "HDD          1.000000 -0.403083  \n",
      "SSD         -0.403083  1.000000  \n"
     ]
    },
    {
     "data": {
      "image/png": "[encoded data removed]",
      "text/plain": [
       "<Figure size 1152x432 with 2 Axes>"
      ]
     },
     "metadata": {
      "needs_background": "light"
     },
     "output_type": "display_data"
    }
   ],
   "source": [
    "from statsmodels.stats.outliers_influence import variance_inflation_factor\n",
    "\n",
    "corr = df.corr()\n",
    "print(corr)\n",
    "\n",
    "plt.figure(figsize=(16, 6))\n",
    "colormap = sns.color_palette(\"Blues\")\n",
    "sns.heatmap(df.corr(), annot=True, cmap=colormap).set_title('Correlation Heatmap', fontdict={'fontsize':14})\n",
    "plt.show()"
   ]
  },
  {
   "cell_type": "code",
   "execution_count": 32,
   "metadata": {
    "colab": {
     "base_uri": "https://localhost:8080/"
    },
    "id": "8rdZmsDKJU_0",
    "outputId": "eaaa3ce3-b884-4fb8-dd50-bf70dfa770ef"
   },
   "outputs": [
    {
     "name": "stdout",
     "output_type": "stream",
     "text": [
      "      features        VIF\n",
      "0          Ram  11.151382\n",
      "1       Weight   9.011636\n",
      "2  Price_euros   9.899454\n",
      "3  Touchscreen   1.442895\n",
      "4          Ips   1.507267\n",
      "5          ppi   8.515741\n",
      "6          HDD   3.044713\n",
      "7          SSD   5.355570\n"
     ]
    }
   ],
   "source": [
    "X=df[[col for col in df.columns if (df[col].dtypes == 'int64') or (df[col].dtypes == 'float64') ]]\n",
    "# calculate the VIF for each variable\n",
    "vif = pd.DataFrame()\n",
    "vif[\"features\"] = X.columns\n",
    "vif[\"VIF\"] = [variance_inflation_factor(X.values, i) for i in range(X.shape[1])]\n",
    "\n",
    "# display the VIF values\n",
    "print(vif)\n"
   ]
  },
  {
   "cell_type": "code",
   "execution_count": 33,
   "metadata": {
    "colab": {
     "base_uri": "https://localhost:8080/"
    },
    "id": "PfcNtEBD2xwO",
    "outputId": "82efcec6-2318-401a-8404-7a491dd72095"
   },
   "outputs": [
    {
     "name": "stdout",
     "output_type": "stream",
     "text": [
      "                            OLS Regression Results                            \n",
      "==============================================================================\n",
      "Dep. Variable:            Price_euros   R-squared:                       1.000\n",
      "Model:                            OLS   Adj. R-squared:                  1.000\n",
      "Method:                 Least Squares   F-statistic:                 1.632e+31\n",
      "Date:                Fri, 10 Mar 2023   Prob (F-statistic):               0.00\n",
      "Time:                        16:12:14   Log-Likelihood:                 32553.\n",
      "No. Observations:                1280   AIC:                        -6.509e+04\n",
      "Df Residuals:                    1271   BIC:                        -6.504e+04\n",
      "Df Model:                           8                                         \n",
      "Covariance Type:            nonrobust                                         \n",
      "===============================================================================\n",
      "                  coef    std err          t      P>|t|      [0.025      0.975]\n",
      "-------------------------------------------------------------------------------\n",
      "const       -2.274e-13   1.81e-12     -0.126      0.900   -3.77e-12    3.32e-12\n",
      "Ram         -2.025e-13   2.08e-14     -9.740      0.000   -2.43e-13   -1.62e-13\n",
      "Weight       3.979e-13   2.79e-13      1.424      0.155    -1.5e-13    9.46e-13\n",
      "Price_euros     1.0000   1.51e-16   6.63e+15      0.000       1.000       1.000\n",
      "Touchscreen -1.421e-13   1.97e-13     -0.720      0.472   -5.29e-13    2.45e-13\n",
      "Ips          2.132e-13   1.47e-13      1.455      0.146   -7.43e-14    5.01e-13\n",
      "ppi          3.553e-13   3.66e-13      0.971      0.332   -3.63e-13    1.07e-12\n",
      "SSD         -7.303e-16    5.5e-16     -1.328      0.184   -1.81e-15    3.48e-16\n",
      "HDD          7.633e-17    1.6e-16      0.476      0.634   -2.38e-16    3.91e-16\n",
      "==============================================================================\n",
      "Omnibus:                      240.913   Durbin-Watson:                   0.301\n",
      "Prob(Omnibus):                  0.000   Jarque-Bera (JB):             2417.000\n",
      "Skew:                          -0.558   Prob(JB):                         0.00\n",
      "Kurtosis:                       9.639   Cond. No.                     4.20e+04\n",
      "==============================================================================\n",
      "\n",
      "Notes:\n",
      "[1] Standard Errors assume that the covariance matrix of the errors is correctly specified.\n",
      "[2] The condition number is large, 4.2e+04. This might indicate that there are\n",
      "strong multicollinearity or other numerical problems.\n"
     ]
    }
   ],
   "source": [
    "import statsmodels.api as sm\n",
    "\n",
    "X = df[['Ram', 'Weight', 'Price_euros', 'Touchscreen', 'Ips', 'ppi', 'SSD', 'HDD']]\n",
    "y = df['Price_euros']\n",
    "X = sm.add_constant(X)\n",
    "model = sm.OLS(y, X).fit()\n",
    "\n",
    "print(model.summary())"
   ]
  },
  {
   "cell_type": "code",
   "execution_count": 34,
   "metadata": {
    "colab": {
     "base_uri": "https://localhost:8080/"
    },
    "id": "ossguzd7JQ1M",
    "outputId": "e28c7fd1-9327-47b1-b53b-115a7c8684ff"
   },
   "outputs": [
    {
     "name": "stdout",
     "output_type": "stream",
     "text": [
      "      features       VIF\n",
      "0  Touchscreen  1.293776\n",
      "1          Ips  1.477541\n",
      "2          ppi  4.177696\n",
      "3          SSD  2.623925\n",
      "4          HDD  1.985267\n"
     ]
    }
   ],
   "source": [
    "X=X.drop(columns=['Ram','Weight','Price_euros','const'])\n",
    "# calculate the VIF for each variable\n",
    "vif = pd.DataFrame()\n",
    "vif[\"features\"] = X.columns\n",
    "vif[\"VIF\"] = [variance_inflation_factor(X.values, i) for i in range(X.shape[1])]\n",
    "\n",
    "# display the VIF values\n",
    "print(vif)\n"
   ]
  },
  {
   "cell_type": "code",
   "execution_count": 35,
   "metadata": {
    "colab": {
     "base_uri": "https://localhost:8080/"
    },
    "id": "JwWB2OJondWg",
    "outputId": "dc2c2304-2652-4e02-88c5-8e85f5e6079a"
   },
   "outputs": [
    {
     "name": "stdout",
     "output_type": "stream",
     "text": [
      "                                 OLS Regression Results                                \n",
      "=======================================================================================\n",
      "Dep. Variable:            Price_euros   R-squared (uncentered):                   0.861\n",
      "Model:                            OLS   Adj. R-squared (uncentered):              0.860\n",
      "Method:                 Least Squares   F-statistic:                              1579.\n",
      "Date:                Fri, 10 Mar 2023   Prob (F-statistic):                        0.00\n",
      "Time:                        16:12:20   Log-Likelihood:                         -9755.9\n",
      "No. Observations:                1280   AIC:                                  1.952e+04\n",
      "Df Residuals:                    1275   BIC:                                  1.955e+04\n",
      "Df Model:                           5                                                  \n",
      "Covariance Type:            nonrobust                                                  \n",
      "===============================================================================\n",
      "                  coef    std err          t      P>|t|      [0.025      0.975]\n",
      "-------------------------------------------------------------------------------\n",
      "Touchscreen    35.8167     41.293      0.867      0.386     -45.193     116.826\n",
      "Ips           154.0613     32.032      4.810      0.000      91.220     216.903\n",
      "ppi            98.9098      5.706     17.335      0.000      87.716     110.104\n",
      "SSD             2.6086      0.086     30.451      0.000       2.441       2.777\n",
      "HDD             0.2713      0.029      9.273      0.000       0.214       0.329\n",
      "==============================================================================\n",
      "Omnibus:                      439.788   Durbin-Watson:                   2.010\n",
      "Prob(Omnibus):                  0.000   Jarque-Bera (JB):             2252.395\n",
      "Skew:                           1.519   Prob(JB):                         0.00\n",
      "Kurtosis:                       8.745   Cond. No.                     2.01e+03\n",
      "==============================================================================\n",
      "\n",
      "Notes:\n",
      "[1] R² is computed without centering (uncentered) since the model does not contain a constant.\n",
      "[2] Standard Errors assume that the covariance matrix of the errors is correctly specified.\n",
      "[3] The condition number is large, 2.01e+03. This might indicate that there are\n",
      "strong multicollinearity or other numerical problems.\n"
     ]
    }
   ],
   "source": [
    "import statsmodels.api as sm\n",
    "\n",
    "X = df[['Touchscreen', 'Ips', 'ppi', 'SSD', 'HDD']]\n",
    "y = df['Price_euros']\n",
    "model = sm.OLS(y, X).fit()\n",
    "\n",
    "print(model.summary())"
   ]
  },
  {
   "cell_type": "markdown",
   "metadata": {
    "id": "DA9SPUQAqb1d"
   },
   "source": [
    "##Models"
   ]
  },
  {
   "cell_type": "code",
   "execution_count": 36,
   "metadata": {
    "id": "kq9QRUP4ATPq"
   },
   "outputs": [],
   "source": [
    "from sklearn.model_selection import train_test_split\n",
    "from sklearn.compose import ColumnTransformer\n",
    "from sklearn.pipeline import Pipeline\n",
    "from sklearn.preprocessing import OneHotEncoder\n",
    "from sklearn.metrics import r2_score,mean_absolute_error,mean_squared_error\n",
    "from sklearn.model_selection import cross_val_score\n",
    "from sklearn.linear_model import LinearRegression"
   ]
  },
  {
   "cell_type": "code",
   "execution_count": 37,
   "metadata": {
    "colab": {
     "base_uri": "https://localhost:8080/",
     "height": 248
    },
    "id": "a_hABYN-gfGT",
    "outputId": "60c7d5fb-842a-4acd-b703-70f40eeb49c0"
   },
   "outputs": [
    {
     "data": {
      "text/html": [
       "<div>\n",
       "<style scoped>\n",
       "    .dataframe tbody tr th:only-of-type {\n",
       "        vertical-align: middle;\n",
       "    }\n",
       "\n",
       "    .dataframe tbody tr th {\n",
       "        vertical-align: top;\n",
       "    }\n",
       "\n",
       "    .dataframe thead th {\n",
       "        text-align: right;\n",
       "    }\n",
       "</style>\n",
       "<table border=\"1\" class=\"dataframe\">\n",
       "  <thead>\n",
       "    <tr style=\"text-align: right;\">\n",
       "      <th></th>\n",
       "      <th>Company</th>\n",
       "      <th>TypeName</th>\n",
       "      <th>Ram</th>\n",
       "      <th>OpSys</th>\n",
       "      <th>Weight</th>\n",
       "      <th>Price_euros</th>\n",
       "      <th>Touchscreen</th>\n",
       "      <th>Ips</th>\n",
       "      <th>ppi</th>\n",
       "      <th>Cpu_brand</th>\n",
       "      <th>HDD</th>\n",
       "      <th>SSD</th>\n",
       "      <th>Gpu_brand</th>\n",
       "    </tr>\n",
       "  </thead>\n",
       "  <tbody>\n",
       "    <tr>\n",
       "      <th>0</th>\n",
       "      <td>Apple</td>\n",
       "      <td>Ultrabook</td>\n",
       "      <td>8</td>\n",
       "      <td>macOS</td>\n",
       "      <td>0.314811</td>\n",
       "      <td>1339.69</td>\n",
       "      <td>0</td>\n",
       "      <td>1</td>\n",
       "      <td>5.424875</td>\n",
       "      <td>Intel Core i5</td>\n",
       "      <td>0</td>\n",
       "      <td>128</td>\n",
       "      <td>Intel</td>\n",
       "    </tr>\n",
       "    <tr>\n",
       "      <th>1</th>\n",
       "      <td>Apple</td>\n",
       "      <td>Ultrabook</td>\n",
       "      <td>8</td>\n",
       "      <td>macOS</td>\n",
       "      <td>0.292670</td>\n",
       "      <td>898.94</td>\n",
       "      <td>0</td>\n",
       "      <td>0</td>\n",
       "      <td>4.849511</td>\n",
       "      <td>Intel Core i5</td>\n",
       "      <td>0</td>\n",
       "      <td>0</td>\n",
       "      <td>Intel</td>\n",
       "    </tr>\n",
       "    <tr>\n",
       "      <th>2</th>\n",
       "      <td>HP</td>\n",
       "      <td>Notebook</td>\n",
       "      <td>8</td>\n",
       "      <td>No OS</td>\n",
       "      <td>0.620576</td>\n",
       "      <td>575.00</td>\n",
       "      <td>0</td>\n",
       "      <td>0</td>\n",
       "      <td>4.950262</td>\n",
       "      <td>Intel Core i5</td>\n",
       "      <td>0</td>\n",
       "      <td>256</td>\n",
       "      <td>Intel</td>\n",
       "    </tr>\n",
       "    <tr>\n",
       "      <th>3</th>\n",
       "      <td>Apple</td>\n",
       "      <td>Ultrabook</td>\n",
       "      <td>16</td>\n",
       "      <td>macOS</td>\n",
       "      <td>0.604316</td>\n",
       "      <td>2537.45</td>\n",
       "      <td>0</td>\n",
       "      <td>1</td>\n",
       "      <td>5.396055</td>\n",
       "      <td>Intel Core i7</td>\n",
       "      <td>0</td>\n",
       "      <td>512</td>\n",
       "      <td>AMD</td>\n",
       "    </tr>\n",
       "    <tr>\n",
       "      <th>4</th>\n",
       "      <td>Apple</td>\n",
       "      <td>Ultrabook</td>\n",
       "      <td>8</td>\n",
       "      <td>macOS</td>\n",
       "      <td>0.314811</td>\n",
       "      <td>1803.60</td>\n",
       "      <td>0</td>\n",
       "      <td>1</td>\n",
       "      <td>5.424875</td>\n",
       "      <td>Intel Core i5</td>\n",
       "      <td>0</td>\n",
       "      <td>256</td>\n",
       "      <td>Intel</td>\n",
       "    </tr>\n",
       "  </tbody>\n",
       "</table>\n",
       "</div>"
      ],
      "text/plain": [
       "  Company   TypeName  Ram  OpSys    Weight  Price_euros  Touchscreen  Ips  \\\n",
       "0   Apple  Ultrabook    8  macOS  0.314811      1339.69            0    1   \n",
       "1   Apple  Ultrabook    8  macOS  0.292670       898.94            0    0   \n",
       "2      HP   Notebook    8  No OS  0.620576       575.00            0    0   \n",
       "3   Apple  Ultrabook   16  macOS  0.604316      2537.45            0    1   \n",
       "4   Apple  Ultrabook    8  macOS  0.314811      1803.60            0    1   \n",
       "\n",
       "        ppi      Cpu_brand  HDD  SSD Gpu_brand  \n",
       "0  5.424875  Intel Core i5    0  128     Intel  \n",
       "1  4.849511  Intel Core i5    0    0     Intel  \n",
       "2  4.950262  Intel Core i5    0  256     Intel  \n",
       "3  5.396055  Intel Core i7    0  512       AMD  \n",
       "4  5.424875  Intel Core i5    0  256     Intel  "
      ]
     },
     "execution_count": 37,
     "metadata": {},
     "output_type": "execute_result"
    }
   ],
   "source": [
    "df.head()"
   ]
  },
  {
   "cell_type": "markdown",
   "metadata": {
    "id": "-IWOXzR4u1Uh"
   },
   "source": [
    "###Simple Linear Regression"
   ]
  },
  {
   "cell_type": "markdown",
   "metadata": {
    "id": "WObayXkiuyJ6"
   },
   "source": [
    "####Model 1: Vs Company"
   ]
  },
  {
   "cell_type": "code",
   "execution_count": 38,
   "metadata": {
    "colab": {
     "base_uri": "https://localhost:8080/"
    },
    "id": "0QBZel3Z6bN2",
    "outputId": "5453858b-c3a5-46f5-e50a-b1271b16ed28"
   },
   "outputs": [
    {
     "name": "stdout",
     "output_type": "stream",
     "text": [
      "R2 Score : 13.12%\n",
      "MAE : 46534.08%\n",
      "MSE : 36805015.12%\n",
      "Cross Val Accuracy: 11.57 %\n"
     ]
    }
   ],
   "source": [
    "from sklearn.compose import ColumnTransformer\n",
    "from sklearn.preprocessing import OneHotEncoder\n",
    "from sklearn.linear_model import LinearRegression\n",
    "from sklearn.metrics import r2_score, mean_squared_error, mean_absolute_error\n",
    "from sklearn.model_selection import train_test_split\n",
    "\n",
    "# define the predictor variable and response variable\n",
    "X = df[['Company']]\n",
    "y = df['Price_euros']\n",
    "\n",
    "# one-hot encode the categorical variable\n",
    "ct = ColumnTransformer(transformers=[('encoder', OneHotEncoder(), [0])],remainder='passthrough')\n",
    "X = ct.fit_transform(X)\n",
    "\n",
    "# split the data into training and testing sets\n",
    "X_train, X_test, y_train, y_test = train_test_split(X, y, test_size=0.15, random_state=3)\n",
    "\n",
    "# train the linear regression model\n",
    "regressor = LinearRegression()\n",
    "regressor.fit(X_train, y_train)\n",
    "\n",
    "# make predictions on the test data\n",
    "y_pred = regressor.predict(X_test)\n",
    "\n",
    "accuracies = cross_val_score(estimator = regressor, X = X_train, y = y_train, cv = 5)\n",
    "\n",
    "print(f\"R2 Score : {r2_score(y_test,y_pred)*100:.2f}%\") \n",
    "print(f\"MAE : {mean_absolute_error(y_test,y_pred)*100:.2f}%\")\n",
    "print(f\"MSE : {mean_squared_error(y_test,y_pred)*100:.2f}%\")\n",
    "print(\"Cross Val Accuracy: {:.2f} %\".format(accuracies.mean()*100))\n",
    "\n",
    "model_comparison={}\n",
    "model_comparison['SLR Vs Company']=[r2_score(y_test,y_pred),mean_squared_error(y_test,y_pred),mean_absolute_error(y_test,y_pred),(accuracies.mean())]"
   ]
  },
  {
   "cell_type": "markdown",
   "metadata": {
    "id": "mvIZZ8_Ajw2x"
   },
   "source": [
    "####Model 2: Vs Ram"
   ]
  },
  {
   "cell_type": "code",
   "execution_count": 39,
   "metadata": {
    "colab": {
     "base_uri": "https://localhost:8080/"
    },
    "id": "jhk8D_0rvHJL",
    "outputId": "3cc3703a-cb78-4f7d-9d00-8956ec3bbe2f"
   },
   "outputs": [
    {
     "name": "stdout",
     "output_type": "stream",
     "text": [
      "                            OLS Regression Results                            \n",
      "==============================================================================\n",
      "Dep. Variable:            Price_euros   R-squared:                       0.552\n",
      "Model:                            OLS   Adj. R-squared:                  0.551\n",
      "Method:                 Least Squares   F-statistic:                     1573.\n",
      "Date:                Fri, 10 Mar 2023   Prob (F-statistic):          6.88e-225\n",
      "Time:                        16:12:28   Log-Likelihood:                -9686.5\n",
      "No. Observations:                1280   AIC:                         1.938e+04\n",
      "Df Residuals:                    1278   BIC:                         1.939e+04\n",
      "Df Model:                           1                                         \n",
      "Covariance Type:            nonrobust                                         \n",
      "==============================================================================\n",
      "                 coef    std err          t      P>|t|      [0.025      0.975]\n",
      "------------------------------------------------------------------------------\n",
      "const        270.6929     25.223     10.732      0.000     221.210     320.175\n",
      "Ram          101.7960      2.567     39.657      0.000      96.760     106.832\n",
      "==============================================================================\n",
      "Omnibus:                      272.552   Durbin-Watson:                   1.990\n",
      "Prob(Omnibus):                  0.000   Jarque-Bera (JB):             1180.045\n",
      "Skew:                           0.945   Prob(JB):                    5.71e-257\n",
      "Kurtosis:                       7.308   Cond. No.                         19.1\n",
      "==============================================================================\n",
      "\n",
      "Notes:\n",
      "[1] Standard Errors assume that the covariance matrix of the errors is correctly specified.\n",
      "R2 Score : 49.01%\n",
      "MAE : 33969.14%\n",
      "MSE : 21602150.20%\n",
      "Cross Val Accuracy: 55.71 %\n"
     ]
    }
   ],
   "source": [
    "# Define the predictor variable and response variable\n",
    "X = df['Ram']\n",
    "y = df['Price_euros']\n",
    "\n",
    "# Add a constant term to the predictor variable to fit an intercept\n",
    "X = sm.add_constant(X)\n",
    "\n",
    "# Fit the linear regression model\n",
    "model = sm.OLS(y, X).fit()\n",
    "\n",
    "# Print the model summary\n",
    "print(model.summary())\n",
    "\n",
    "X_train,X_test,y_train,y_test = train_test_split(X,y,test_size=0.15,random_state=3)\n",
    "\n",
    "model = LinearRegression()\n",
    "model.fit(X_train, y_train)\n",
    "\n",
    "from sklearn.metrics import r2_score\n",
    "y_pred = model.predict(X_test)\n",
    "\n",
    "accuracies = cross_val_score(estimator = model, X = X_train, y = y_train, cv = 5)\n",
    "\n",
    "print(f\"R2 Score : {r2_score(y_test,y_pred)*100:.2f}%\") \n",
    "print(f\"MAE : {mean_absolute_error(y_test,y_pred)*100:.2f}%\")\n",
    "print(f\"MSE : {mean_squared_error(y_test,y_pred)*100:.2f}%\")\n",
    "print(\"Cross Val Accuracy: {:.2f} %\".format(accuracies.mean()*100))\n",
    "\n",
    "model_comparison['SLR Vs Ram']=[r2_score(y_test,y_pred),mean_squared_error(y_test,y_pred),mean_absolute_error(y_test,y_pred),(accuracies.mean())]"
   ]
  },
  {
   "cell_type": "markdown",
   "metadata": {
    "id": "3OwIiU0fj7VQ"
   },
   "source": [
    "####Model 3: Vs ppi"
   ]
  },
  {
   "cell_type": "code",
   "execution_count": 40,
   "metadata": {
    "colab": {
     "base_uri": "https://localhost:8080/"
    },
    "id": "r_e8xlj8A_bK",
    "outputId": "fde564b2-b86c-46fe-bacc-d229b7fb0aa3"
   },
   "outputs": [
    {
     "name": "stdout",
     "output_type": "stream",
     "text": [
      "                            OLS Regression Results                            \n",
      "==============================================================================\n",
      "Dep. Variable:            Price_euros   R-squared:                       0.254\n",
      "Model:                            OLS   Adj. R-squared:                  0.254\n",
      "Method:                 Least Squares   F-statistic:                     435.9\n",
      "Date:                Fri, 10 Mar 2023   Prob (F-statistic):           1.59e-83\n",
      "Time:                        16:12:29   Log-Likelihood:                -10012.\n",
      "No. Observations:                1280   AIC:                         2.003e+04\n",
      "Df Residuals:                    1278   BIC:                         2.004e+04\n",
      "Df Model:                           1                                         \n",
      "Covariance Type:            nonrobust                                         \n",
      "==============================================================================\n",
      "                 coef    std err          t      P>|t|      [0.025      0.975]\n",
      "------------------------------------------------------------------------------\n",
      "const      -5827.2757    333.450    -17.476      0.000   -6481.446   -5173.106\n",
      "ppi         1404.3320     67.263     20.878      0.000    1272.374    1536.290\n",
      "==============================================================================\n",
      "Omnibus:                      481.551   Durbin-Watson:                   2.047\n",
      "Prob(Omnibus):                  0.000   Jarque-Bera (JB):             2312.448\n",
      "Skew:                           1.711   Prob(JB):                         0.00\n",
      "Kurtosis:                       8.626   Cond. No.                         102.\n",
      "==============================================================================\n",
      "\n",
      "Notes:\n",
      "[1] Standard Errors assume that the covariance matrix of the errors is correctly specified.\n",
      "R2 Score : 30.35%\n",
      "MAE : 40555.92%\n",
      "MSE : 29506327.18%\n",
      "Cross Val Accuracy: 24.46 %\n"
     ]
    }
   ],
   "source": [
    "# Define the predictor variable and response variable\n",
    "X = df['ppi']\n",
    "y = df['Price_euros']\n",
    "\n",
    "# Add a constant term to the predictor variable to fit an intercept\n",
    "X = sm.add_constant(X)\n",
    "\n",
    "# Fit the linear regression model\n",
    "model = sm.OLS(y, X).fit()\n",
    "\n",
    "# Print the model summary\n",
    "print(model.summary())\n",
    "\n",
    "X_train,X_test,y_train,y_test = train_test_split(X,y,test_size=0.15,random_state=3)\n",
    "\n",
    "model = LinearRegression()\n",
    "model.fit(X_train, y_train)\n",
    "\n",
    "from sklearn.metrics import r2_score\n",
    "y_pred = model.predict(X_test)\n",
    "\n",
    "accuracies = cross_val_score(estimator = model, X = X_train, y = y_train, cv = 5)\n",
    "\n",
    "print(f\"R2 Score : {r2_score(y_test,y_pred)*100:.2f}%\") \n",
    "print(f\"MAE : {mean_absolute_error(y_test,y_pred)*100:.2f}%\")\n",
    "print(f\"MSE : {mean_squared_error(y_test,y_pred)*100:.2f}%\")\n",
    "print(\"Cross Val Accuracy: {:.2f} %\".format(accuracies.mean()*100))\n",
    "\n",
    "model_comparison['SLR Vs ppi']=[r2_score(y_test,y_pred),mean_squared_error(y_test,y_pred),mean_absolute_error(y_test,y_pred),(accuracies.mean())]"
   ]
  },
  {
   "cell_type": "markdown",
   "metadata": {
    "id": "QaCuvWAjkBLo"
   },
   "source": [
    "####Model 4: Vs Weight"
   ]
  },
  {
   "cell_type": "code",
   "execution_count": 41,
   "metadata": {
    "colab": {
     "base_uri": "https://localhost:8080/"
    },
    "id": "ts7yAtt8DVnl",
    "outputId": "1b72abfb-69ee-4318-a8bd-12d3af1d2a6c"
   },
   "outputs": [
    {
     "name": "stdout",
     "output_type": "stream",
     "text": [
      "                            OLS Regression Results                            \n",
      "==============================================================================\n",
      "Dep. Variable:            Price_euros   R-squared:                       0.011\n",
      "Model:                            OLS   Adj. R-squared:                  0.010\n",
      "Method:                 Least Squares   F-statistic:                     14.41\n",
      "Date:                Fri, 10 Mar 2023   Prob (F-statistic):           0.000154\n",
      "Time:                        16:12:31   Log-Likelihood:                -10193.\n",
      "No. Observations:                1280   AIC:                         2.039e+04\n",
      "Df Residuals:                    1278   BIC:                         2.040e+04\n",
      "Df Model:                           1                                         \n",
      "Covariance Type:            nonrobust                                         \n",
      "==============================================================================\n",
      "                 coef    std err          t      P>|t|      [0.025      0.975]\n",
      "------------------------------------------------------------------------------\n",
      "const        968.6449     45.692     21.199      0.000     879.005    1058.284\n",
      "Weight       234.9503     61.886      3.796      0.000     113.541     356.360\n",
      "==============================================================================\n",
      "Omnibus:                      370.019   Durbin-Watson:                   1.994\n",
      "Prob(Omnibus):                  0.000   Jarque-Bera (JB):             1182.786\n",
      "Skew:                           1.423   Prob(JB):                    1.45e-257\n",
      "Kurtosis:                       6.752   Cond. No.                         4.70\n",
      "==============================================================================\n",
      "\n",
      "Notes:\n",
      "[1] Standard Errors assume that the covariance matrix of the errors is correctly specified.\n",
      "R2 Score : 1.30%\n",
      "MAE : 51871.12%\n",
      "MSE : 41810155.90%\n",
      "Cross Val Accuracy: 0.70 %\n"
     ]
    }
   ],
   "source": [
    "# Define the predictor variable and response variable\n",
    "X = df['Weight']\n",
    "y = df['Price_euros']\n",
    "\n",
    "# Add a constant term to the predictor variable to fit an intercept\n",
    "X = sm.add_constant(X)\n",
    "\n",
    "# Fit the linear regression model\n",
    "model = sm.OLS(y, X).fit()\n",
    "\n",
    "# Print the model summary\n",
    "print(model.summary())\n",
    "\n",
    "X_train,X_test,y_train,y_test = train_test_split(X,y,test_size=0.15,random_state=3)\n",
    "\n",
    "model = LinearRegression()\n",
    "model.fit(X_train, y_train)\n",
    "\n",
    "from sklearn.metrics import r2_score\n",
    "y_pred = model.predict(X_test)\n",
    "\n",
    "accuracies = cross_val_score(estimator = model, X = X_train, y = y_train, cv = 5)\n",
    "\n",
    "print(f\"R2 Score : {r2_score(y_test,y_pred)*100:.2f}%\") \n",
    "print(f\"MAE : {mean_absolute_error(y_test,y_pred)*100:.2f}%\")\n",
    "print(f\"MSE : {mean_squared_error(y_test,y_pred)*100:.2f}%\")\n",
    "print(\"Cross Val Accuracy: {:.2f} %\".format(accuracies.mean()*100))\n",
    "\n",
    "model_comparison['SLR Vs Weight']=[r2_score(y_test,y_pred),mean_squared_error(y_test,y_pred),mean_absolute_error(y_test,y_pred),(accuracies.mean())]"
   ]
  },
  {
   "cell_type": "markdown",
   "metadata": {
    "id": "Ax4phVKHkMaD"
   },
   "source": [
    "####Model 5: Vs HDD"
   ]
  },
  {
   "cell_type": "code",
   "execution_count": 42,
   "metadata": {
    "colab": {
     "base_uri": "https://localhost:8080/"
    },
    "id": "-6BBuV_kfAKI",
    "outputId": "8032e641-2fde-425b-9349-806570128fa5"
   },
   "outputs": [
    {
     "name": "stdout",
     "output_type": "stream",
     "text": [
      "                            OLS Regression Results                            \n",
      "==============================================================================\n",
      "Dep. Variable:            Price_euros   R-squared:                       0.010\n",
      "Model:                            OLS   Adj. R-squared:                  0.009\n",
      "Method:                 Least Squares   F-statistic:                     12.72\n",
      "Date:                Fri, 10 Mar 2023   Prob (F-statistic):           0.000376\n",
      "Time:                        16:12:32   Log-Likelihood:                -10194.\n",
      "No. Observations:                1280   AIC:                         2.039e+04\n",
      "Df Residuals:                    1278   BIC:                         2.040e+04\n",
      "Df Model:                           1                                         \n",
      "Covariance Type:            nonrobust                                         \n",
      "==============================================================================\n",
      "                 coef    std err          t      P>|t|      [0.025      0.975]\n",
      "------------------------------------------------------------------------------\n",
      "const       1182.0421     25.079     47.132      0.000    1132.841    1231.243\n",
      "HDD           -0.1342      0.038     -3.566      0.000      -0.208      -0.060\n",
      "==============================================================================\n",
      "Omnibus:                      415.242   Durbin-Watson:                   2.039\n",
      "Prob(Omnibus):                  0.000   Jarque-Bera (JB):             1548.519\n",
      "Skew:                           1.543   Prob(JB):                         0.00\n",
      "Kurtosis:                       7.417   Cond. No.                         859.\n",
      "==============================================================================\n",
      "\n",
      "Notes:\n",
      "[1] Standard Errors assume that the covariance matrix of the errors is correctly specified.\n",
      "R2 Score : -2.39%\n",
      "MAE : 51471.61%\n",
      "MSE : 43374697.29%\n",
      "Cross Val Accuracy: 1.26 %\n"
     ]
    }
   ],
   "source": [
    "# Define the predictor variable and response variable\n",
    "X = df['HDD']\n",
    "y = df['Price_euros']\n",
    "\n",
    "# Add a constant term to the predictor variable to fit an intercept\n",
    "X = sm.add_constant(X)\n",
    "\n",
    "# Fit the linear regression model\n",
    "model = sm.OLS(y, X).fit()\n",
    "\n",
    "# Print the model summary\n",
    "print(model.summary())\n",
    "\n",
    "X_train,X_test,y_train,y_test = train_test_split(X,y,test_size=0.15,random_state=3)\n",
    "\n",
    "model = LinearRegression()\n",
    "model.fit(X_train, y_train)\n",
    "\n",
    "from sklearn.metrics import r2_score\n",
    "y_pred = model.predict(X_test)\n",
    "\n",
    "accuracies = cross_val_score(estimator = model, X = X_train, y = y_train, cv = 5)\n",
    "\n",
    "print(f\"R2 Score : {r2_score(y_test,y_pred)*100:.2f}%\") \n",
    "print(f\"MAE : {mean_absolute_error(y_test,y_pred)*100:.2f}%\")\n",
    "print(f\"MSE : {mean_squared_error(y_test,y_pred)*100:.2f}%\")\n",
    "print(\"Cross Val Accuracy: {:.2f} %\".format(accuracies.mean()*100))\n",
    "\n",
    "model_comparison['SLR Vs HDD']=[r2_score(y_test,y_pred),mean_squared_error(y_test,y_pred),mean_absolute_error(y_test,y_pred),(accuracies.mean())]"
   ]
  },
  {
   "cell_type": "markdown",
   "metadata": {
    "id": "og2sPxX1qf4C"
   },
   "source": [
    "###Multilinear Regression"
   ]
  },
  {
   "cell_type": "markdown",
   "metadata": {
    "id": "5Uw3mCQjt_SL"
   },
   "source": [
    "####Model 1 : with all the selected variables"
   ]
  },
  {
   "cell_type": "code",
   "execution_count": 44,
   "metadata": {
    "colab": {
     "base_uri": "https://localhost:8080/"
    },
    "id": "Jse6H41BBPIm",
    "outputId": "87c462cc-fa55-4666-c849-489a05a8de63"
   },
   "outputs": [
    {
     "name": "stdout",
     "output_type": "stream",
     "text": [
      "R2 Score: 80.70%\n",
      "MSE: 6.47%\n",
      "MAE: 19.65%\n",
      "Cross Val Accuracy: 81.70%\n"
     ]
    }
   ],
   "source": [
    "X = df.drop(columns=['Price_euros'])\n",
    "y = np.log(df['Price_euros'])\n",
    "\n",
    "X_train,X_test,y_train,y_test = train_test_split(X,y,test_size=0.15,random_state=3)\n",
    "\n",
    "ct = ColumnTransformer(\n",
    "    transformers=[\n",
    "        ('onehot', OneHotEncoder(sparse=False, handle_unknown='ignore'), [0,1,3,8,11])\n",
    "    ], remainder='passthrough')\n",
    "\n",
    "pipe = Pipeline(steps=[\n",
    "    ('preprocessor', ct),\n",
    "    ('regressor', LinearRegression())\n",
    "])\n",
    "\n",
    "pipe.fit(X_train, y_train)\n",
    "\n",
    "y_pred = pipe.predict(X_test)\n",
    "\n",
    "r2 = r2_score(y_test, y_pred)\n",
    "mse = mean_squared_error(y_test, y_pred)\n",
    "mae = mean_absolute_error(y_test, y_pred)\n",
    "accuracy = cross_val_score(estimator=pipe, X=X_train, y=y_train, cv=25).mean()\n",
    "\n",
    "print(f\"R2 Score: {r2*100:.2f}%\")\n",
    "print(f\"MSE: {mse*100:.2f}%\")\n",
    "print(f\"MAE: {mae*100:.2f}%\")\n",
    "print(f\"Cross Val Accuracy: {accuracy*100:.2f}%\")\n",
    "\n",
    "model_comparison['MLR(final)'] = [r2, mse, mae, accuracy]\n"
   ]
  },
  {
   "cell_type": "markdown",
   "metadata": {
    "id": "2imayhGcv3ak"
   },
   "source": [
    "#### Model 2 : Except Weight\n"
   ]
  },
  {
   "cell_type": "code",
   "execution_count": 45,
   "metadata": {
    "colab": {
     "base_uri": "https://localhost:8080/",
     "height": 463
    },
    "id": "Uw5EdDBUdA2R",
    "outputId": "8540c5cf-c1f6-4178-c775-cf849ac891a4"
   },
   "outputs": [
    {
     "data": {
      "text/html": [
       "<div>\n",
       "<style scoped>\n",
       "    .dataframe tbody tr th:only-of-type {\n",
       "        vertical-align: middle;\n",
       "    }\n",
       "\n",
       "    .dataframe tbody tr th {\n",
       "        vertical-align: top;\n",
       "    }\n",
       "\n",
       "    .dataframe thead th {\n",
       "        text-align: right;\n",
       "    }\n",
       "</style>\n",
       "<table border=\"1\" class=\"dataframe\">\n",
       "  <thead>\n",
       "    <tr style=\"text-align: right;\">\n",
       "      <th></th>\n",
       "      <th>TypeName</th>\n",
       "      <th>Ram</th>\n",
       "      <th>OpSys</th>\n",
       "      <th>Weight</th>\n",
       "      <th>Touchscreen</th>\n",
       "      <th>Ips</th>\n",
       "      <th>ppi</th>\n",
       "      <th>Cpu_brand</th>\n",
       "      <th>HDD</th>\n",
       "      <th>SSD</th>\n",
       "      <th>Gpu_brand</th>\n",
       "    </tr>\n",
       "  </thead>\n",
       "  <tbody>\n",
       "    <tr>\n",
       "      <th>345</th>\n",
       "      <td>Gaming</td>\n",
       "      <td>16</td>\n",
       "      <td>Windows 10</td>\n",
       "      <td>0.875469</td>\n",
       "      <td>0</td>\n",
       "      <td>1</td>\n",
       "      <td>4.950262</td>\n",
       "      <td>Intel Core i7</td>\n",
       "      <td>2000</td>\n",
       "      <td>256</td>\n",
       "      <td>Nvidia</td>\n",
       "    </tr>\n",
       "    <tr>\n",
       "      <th>560</th>\n",
       "      <td>2 in 1 Convertible</td>\n",
       "      <td>4</td>\n",
       "      <td>Windows 10</td>\n",
       "      <td>0.223144</td>\n",
       "      <td>1</td>\n",
       "      <td>1</td>\n",
       "      <td>5.246528</td>\n",
       "      <td>Other Intel Processor</td>\n",
       "      <td>0</td>\n",
       "      <td>0</td>\n",
       "      <td>Intel</td>\n",
       "    </tr>\n",
       "    <tr>\n",
       "      <th>203</th>\n",
       "      <td>Gaming</td>\n",
       "      <td>16</td>\n",
       "      <td>Windows 10</td>\n",
       "      <td>1.163151</td>\n",
       "      <td>0</td>\n",
       "      <td>1</td>\n",
       "      <td>4.950262</td>\n",
       "      <td>Intel Core i7</td>\n",
       "      <td>1000</td>\n",
       "      <td>512</td>\n",
       "      <td>Nvidia</td>\n",
       "    </tr>\n",
       "    <tr>\n",
       "      <th>897</th>\n",
       "      <td>Notebook</td>\n",
       "      <td>8</td>\n",
       "      <td>Windows 10</td>\n",
       "      <td>0.712950</td>\n",
       "      <td>0</td>\n",
       "      <td>0</td>\n",
       "      <td>4.950262</td>\n",
       "      <td>Intel Core i7</td>\n",
       "      <td>1000</td>\n",
       "      <td>0</td>\n",
       "      <td>Nvidia</td>\n",
       "    </tr>\n",
       "    <tr>\n",
       "      <th>625</th>\n",
       "      <td>Notebook</td>\n",
       "      <td>8</td>\n",
       "      <td>Windows 10</td>\n",
       "      <td>0.788457</td>\n",
       "      <td>0</td>\n",
       "      <td>0</td>\n",
       "      <td>4.950262</td>\n",
       "      <td>Intel Core i7</td>\n",
       "      <td>1000</td>\n",
       "      <td>0</td>\n",
       "      <td>Nvidia</td>\n",
       "    </tr>\n",
       "    <tr>\n",
       "      <th>...</th>\n",
       "      <td>...</td>\n",
       "      <td>...</td>\n",
       "      <td>...</td>\n",
       "      <td>...</td>\n",
       "      <td>...</td>\n",
       "      <td>...</td>\n",
       "      <td>...</td>\n",
       "      <td>...</td>\n",
       "      <td>...</td>\n",
       "      <td>...</td>\n",
       "      <td>...</td>\n",
       "    </tr>\n",
       "    <tr>\n",
       "      <th>805</th>\n",
       "      <td>Netbook</td>\n",
       "      <td>8</td>\n",
       "      <td>Windows 10</td>\n",
       "      <td>0.231112</td>\n",
       "      <td>0</td>\n",
       "      <td>0</td>\n",
       "      <td>4.831249</td>\n",
       "      <td>Intel Core i5</td>\n",
       "      <td>0</td>\n",
       "      <td>256</td>\n",
       "      <td>Intel</td>\n",
       "    </tr>\n",
       "    <tr>\n",
       "      <th>262</th>\n",
       "      <td>Notebook</td>\n",
       "      <td>4</td>\n",
       "      <td>Windows 10</td>\n",
       "      <td>0.741937</td>\n",
       "      <td>0</td>\n",
       "      <td>1</td>\n",
       "      <td>4.950262</td>\n",
       "      <td>Intel Core i5</td>\n",
       "      <td>500</td>\n",
       "      <td>0</td>\n",
       "      <td>Intel</td>\n",
       "    </tr>\n",
       "    <tr>\n",
       "      <th>988</th>\n",
       "      <td>Notebook</td>\n",
       "      <td>8</td>\n",
       "      <td>Windows 10</td>\n",
       "      <td>0.858662</td>\n",
       "      <td>0</td>\n",
       "      <td>0</td>\n",
       "      <td>4.609707</td>\n",
       "      <td>Intel Core i7</td>\n",
       "      <td>1000</td>\n",
       "      <td>0</td>\n",
       "      <td>AMD</td>\n",
       "    </tr>\n",
       "    <tr>\n",
       "      <th>971</th>\n",
       "      <td>Ultrabook</td>\n",
       "      <td>8</td>\n",
       "      <td>Windows 10</td>\n",
       "      <td>0.405465</td>\n",
       "      <td>1</td>\n",
       "      <td>0</td>\n",
       "      <td>5.346158</td>\n",
       "      <td>Intel Core i7</td>\n",
       "      <td>0</td>\n",
       "      <td>256</td>\n",
       "      <td>Intel</td>\n",
       "    </tr>\n",
       "    <tr>\n",
       "      <th>1296</th>\n",
       "      <td>Netbook</td>\n",
       "      <td>2</td>\n",
       "      <td>Windows 10</td>\n",
       "      <td>0.157004</td>\n",
       "      <td>0</td>\n",
       "      <td>0</td>\n",
       "      <td>4.905972</td>\n",
       "      <td>Other Intel Processor</td>\n",
       "      <td>0</td>\n",
       "      <td>0</td>\n",
       "      <td>Intel</td>\n",
       "    </tr>\n",
       "  </tbody>\n",
       "</table>\n",
       "<p>1088 rows × 11 columns</p>\n",
       "</div>"
      ],
      "text/plain": [
       "                TypeName  Ram       OpSys    Weight  Touchscreen  Ips  \\\n",
       "345               Gaming   16  Windows 10  0.875469            0    1   \n",
       "560   2 in 1 Convertible    4  Windows 10  0.223144            1    1   \n",
       "203               Gaming   16  Windows 10  1.163151            0    1   \n",
       "897             Notebook    8  Windows 10  0.712950            0    0   \n",
       "625             Notebook    8  Windows 10  0.788457            0    0   \n",
       "...                  ...  ...         ...       ...          ...  ...   \n",
       "805              Netbook    8  Windows 10  0.231112            0    0   \n",
       "262             Notebook    4  Windows 10  0.741937            0    1   \n",
       "988             Notebook    8  Windows 10  0.858662            0    0   \n",
       "971            Ultrabook    8  Windows 10  0.405465            1    0   \n",
       "1296             Netbook    2  Windows 10  0.157004            0    0   \n",
       "\n",
       "           ppi              Cpu_brand   HDD  SSD Gpu_brand  \n",
       "345   4.950262          Intel Core i7  2000  256    Nvidia  \n",
       "560   5.246528  Other Intel Processor     0    0     Intel  \n",
       "203   4.950262          Intel Core i7  1000  512    Nvidia  \n",
       "897   4.950262          Intel Core i7  1000    0    Nvidia  \n",
       "625   4.950262          Intel Core i7  1000    0    Nvidia  \n",
       "...        ...                    ...   ...  ...       ...  \n",
       "805   4.831249          Intel Core i5     0  256     Intel  \n",
       "262   4.950262          Intel Core i5   500    0     Intel  \n",
       "988   4.609707          Intel Core i7  1000    0       AMD  \n",
       "971   5.346158          Intel Core i7     0  256     Intel  \n",
       "1296  4.905972  Other Intel Processor     0    0     Intel  \n",
       "\n",
       "[1088 rows x 11 columns]"
      ]
     },
     "execution_count": 45,
     "metadata": {},
     "output_type": "execute_result"
    }
   ],
   "source": [
    "X = df.drop(columns=['Price_euros','Company'])\n",
    "y = np.log(df['Price_euros'])\n",
    "X_train,X_test,y_train,y_test = train_test_split(X,y,test_size=0.15,random_state=3)\n",
    "X_train"
   ]
  },
  {
   "cell_type": "code",
   "execution_count": 46,
   "metadata": {
    "colab": {
     "base_uri": "https://localhost:8080/"
    },
    "id": "A370AQBZB-B8",
    "outputId": "7ea5d4c2-b469-4cab-e02d-b4549c41ad6f"
   },
   "outputs": [
    {
     "name": "stdout",
     "output_type": "stream",
     "text": [
      "R2 Score: 80.06%\n",
      "MSE: 6.68%\n",
      "MAE: 20.01%\n",
      "Cross Val Accuracy: 80.51%\n"
     ]
    }
   ],
   "source": [
    "ct = ColumnTransformer(\n",
    "    transformers=[\n",
    "        ('onehot', OneHotEncoder(sparse=False, handle_unknown='ignore'), [0,2,7,10])\n",
    "    ], remainder='passthrough')\n",
    "\n",
    "pipe = Pipeline(steps=[\n",
    "    ('preprocessor', ct),\n",
    "    ('regressor', LinearRegression())\n",
    "])\n",
    "\n",
    "pipe.fit(X_train, y_train)\n",
    "\n",
    "y_pred = pipe.predict(X_test)\n",
    "\n",
    "r2 = r2_score(y_test, y_pred)\n",
    "mse = mean_squared_error(y_test, y_pred)\n",
    "mae = mean_absolute_error(y_test, y_pred)\n",
    "accuracy = cross_val_score(estimator=pipe, X=X_train, y=y_train, cv=25).mean()\n",
    "\n",
    "print(f\"R2 Score: {r2*100:.2f}%\")\n",
    "print(f\"MSE: {mse*100:.2f}%\")\n",
    "print(f\"MAE: {mae*100:.2f}%\")\n",
    "print(f\"Cross Val Accuracy: {accuracy*100:.2f}%\")\n",
    "\n",
    "model_comparison['MLR w/o Weight'] = [r2, mse, mae, accuracy]\n"
   ]
  },
  {
   "cell_type": "markdown",
   "metadata": {
    "id": "GoY2yRBRwIl3"
   },
   "source": [
    "#### Model 3: Except HDD\n"
   ]
  },
  {
   "cell_type": "code",
   "execution_count": 49,
   "metadata": {
    "colab": {
     "base_uri": "https://localhost:8080/",
     "height": 463
    },
    "id": "8yVKkXsCexVb",
    "outputId": "3094a91a-6cab-4168-91f0-37b956d8234c"
   },
   "outputs": [
    {
     "data": {
      "text/html": [
       "<div>\n",
       "<style scoped>\n",
       "    .dataframe tbody tr th:only-of-type {\n",
       "        vertical-align: middle;\n",
       "    }\n",
       "\n",
       "    .dataframe tbody tr th {\n",
       "        vertical-align: top;\n",
       "    }\n",
       "\n",
       "    .dataframe thead th {\n",
       "        text-align: right;\n",
       "    }\n",
       "</style>\n",
       "<table border=\"1\" class=\"dataframe\">\n",
       "  <thead>\n",
       "    <tr style=\"text-align: right;\">\n",
       "      <th></th>\n",
       "      <th>Company</th>\n",
       "      <th>TypeName</th>\n",
       "      <th>Ram</th>\n",
       "      <th>OpSys</th>\n",
       "      <th>Weight</th>\n",
       "      <th>Touchscreen</th>\n",
       "      <th>Ips</th>\n",
       "      <th>ppi</th>\n",
       "      <th>Cpu_brand</th>\n",
       "      <th>SSD</th>\n",
       "      <th>Gpu_brand</th>\n",
       "    </tr>\n",
       "  </thead>\n",
       "  <tbody>\n",
       "    <tr>\n",
       "      <th>345</th>\n",
       "      <td>Lenovo</td>\n",
       "      <td>Gaming</td>\n",
       "      <td>16</td>\n",
       "      <td>Windows 10</td>\n",
       "      <td>0.875469</td>\n",
       "      <td>0</td>\n",
       "      <td>1</td>\n",
       "      <td>4.950262</td>\n",
       "      <td>Intel Core i7</td>\n",
       "      <td>256</td>\n",
       "      <td>Nvidia</td>\n",
       "    </tr>\n",
       "    <tr>\n",
       "      <th>560</th>\n",
       "      <td>Acer</td>\n",
       "      <td>2 in 1 Convertible</td>\n",
       "      <td>4</td>\n",
       "      <td>Windows 10</td>\n",
       "      <td>0.223144</td>\n",
       "      <td>1</td>\n",
       "      <td>1</td>\n",
       "      <td>5.246528</td>\n",
       "      <td>Other Intel Processor</td>\n",
       "      <td>0</td>\n",
       "      <td>Intel</td>\n",
       "    </tr>\n",
       "    <tr>\n",
       "      <th>203</th>\n",
       "      <td>Lenovo</td>\n",
       "      <td>Gaming</td>\n",
       "      <td>16</td>\n",
       "      <td>Windows 10</td>\n",
       "      <td>1.163151</td>\n",
       "      <td>0</td>\n",
       "      <td>1</td>\n",
       "      <td>4.950262</td>\n",
       "      <td>Intel Core i7</td>\n",
       "      <td>512</td>\n",
       "      <td>Nvidia</td>\n",
       "    </tr>\n",
       "    <tr>\n",
       "      <th>897</th>\n",
       "      <td>HP</td>\n",
       "      <td>Notebook</td>\n",
       "      <td>8</td>\n",
       "      <td>Windows 10</td>\n",
       "      <td>0.712950</td>\n",
       "      <td>0</td>\n",
       "      <td>0</td>\n",
       "      <td>4.950262</td>\n",
       "      <td>Intel Core i7</td>\n",
       "      <td>0</td>\n",
       "      <td>Nvidia</td>\n",
       "    </tr>\n",
       "    <tr>\n",
       "      <th>625</th>\n",
       "      <td>Lenovo</td>\n",
       "      <td>Notebook</td>\n",
       "      <td>8</td>\n",
       "      <td>Windows 10</td>\n",
       "      <td>0.788457</td>\n",
       "      <td>0</td>\n",
       "      <td>0</td>\n",
       "      <td>4.950262</td>\n",
       "      <td>Intel Core i7</td>\n",
       "      <td>0</td>\n",
       "      <td>Nvidia</td>\n",
       "    </tr>\n",
       "    <tr>\n",
       "      <th>...</th>\n",
       "      <td>...</td>\n",
       "      <td>...</td>\n",
       "      <td>...</td>\n",
       "      <td>...</td>\n",
       "      <td>...</td>\n",
       "      <td>...</td>\n",
       "      <td>...</td>\n",
       "      <td>...</td>\n",
       "      <td>...</td>\n",
       "      <td>...</td>\n",
       "      <td>...</td>\n",
       "    </tr>\n",
       "    <tr>\n",
       "      <th>805</th>\n",
       "      <td>HP</td>\n",
       "      <td>Netbook</td>\n",
       "      <td>8</td>\n",
       "      <td>Windows 10</td>\n",
       "      <td>0.231112</td>\n",
       "      <td>0</td>\n",
       "      <td>0</td>\n",
       "      <td>4.831249</td>\n",
       "      <td>Intel Core i5</td>\n",
       "      <td>256</td>\n",
       "      <td>Intel</td>\n",
       "    </tr>\n",
       "    <tr>\n",
       "      <th>262</th>\n",
       "      <td>HP</td>\n",
       "      <td>Notebook</td>\n",
       "      <td>4</td>\n",
       "      <td>Windows 10</td>\n",
       "      <td>0.741937</td>\n",
       "      <td>0</td>\n",
       "      <td>1</td>\n",
       "      <td>4.950262</td>\n",
       "      <td>Intel Core i5</td>\n",
       "      <td>0</td>\n",
       "      <td>Intel</td>\n",
       "    </tr>\n",
       "    <tr>\n",
       "      <th>988</th>\n",
       "      <td>Dell</td>\n",
       "      <td>Notebook</td>\n",
       "      <td>8</td>\n",
       "      <td>Windows 10</td>\n",
       "      <td>0.858662</td>\n",
       "      <td>0</td>\n",
       "      <td>0</td>\n",
       "      <td>4.609707</td>\n",
       "      <td>Intel Core i7</td>\n",
       "      <td>0</td>\n",
       "      <td>AMD</td>\n",
       "    </tr>\n",
       "    <tr>\n",
       "      <th>971</th>\n",
       "      <td>Dell</td>\n",
       "      <td>Ultrabook</td>\n",
       "      <td>8</td>\n",
       "      <td>Windows 10</td>\n",
       "      <td>0.405465</td>\n",
       "      <td>1</td>\n",
       "      <td>0</td>\n",
       "      <td>5.346158</td>\n",
       "      <td>Intel Core i7</td>\n",
       "      <td>256</td>\n",
       "      <td>Intel</td>\n",
       "    </tr>\n",
       "    <tr>\n",
       "      <th>1296</th>\n",
       "      <td>HP</td>\n",
       "      <td>Netbook</td>\n",
       "      <td>2</td>\n",
       "      <td>Windows 10</td>\n",
       "      <td>0.157004</td>\n",
       "      <td>0</td>\n",
       "      <td>0</td>\n",
       "      <td>4.905972</td>\n",
       "      <td>Other Intel Processor</td>\n",
       "      <td>0</td>\n",
       "      <td>Intel</td>\n",
       "    </tr>\n",
       "  </tbody>\n",
       "</table>\n",
       "<p>1088 rows × 11 columns</p>\n",
       "</div>"
      ],
      "text/plain": [
       "     Company            TypeName  Ram       OpSys    Weight  Touchscreen  Ips  \\\n",
       "345   Lenovo              Gaming   16  Windows 10  0.875469            0    1   \n",
       "560     Acer  2 in 1 Convertible    4  Windows 10  0.223144            1    1   \n",
       "203   Lenovo              Gaming   16  Windows 10  1.163151            0    1   \n",
       "897       HP            Notebook    8  Windows 10  0.712950            0    0   \n",
       "625   Lenovo            Notebook    8  Windows 10  0.788457            0    0   \n",
       "...      ...                 ...  ...         ...       ...          ...  ...   \n",
       "805       HP             Netbook    8  Windows 10  0.231112            0    0   \n",
       "262       HP            Notebook    4  Windows 10  0.741937            0    1   \n",
       "988     Dell            Notebook    8  Windows 10  0.858662            0    0   \n",
       "971     Dell           Ultrabook    8  Windows 10  0.405465            1    0   \n",
       "1296      HP             Netbook    2  Windows 10  0.157004            0    0   \n",
       "\n",
       "           ppi              Cpu_brand  SSD Gpu_brand  \n",
       "345   4.950262          Intel Core i7  256    Nvidia  \n",
       "560   5.246528  Other Intel Processor    0     Intel  \n",
       "203   4.950262          Intel Core i7  512    Nvidia  \n",
       "897   4.950262          Intel Core i7    0    Nvidia  \n",
       "625   4.950262          Intel Core i7    0    Nvidia  \n",
       "...        ...                    ...  ...       ...  \n",
       "805   4.831249          Intel Core i5  256     Intel  \n",
       "262   4.950262          Intel Core i5    0     Intel  \n",
       "988   4.609707          Intel Core i7    0       AMD  \n",
       "971   5.346158          Intel Core i7  256     Intel  \n",
       "1296  4.905972  Other Intel Processor    0     Intel  \n",
       "\n",
       "[1088 rows x 11 columns]"
      ]
     },
     "execution_count": 49,
     "metadata": {},
     "output_type": "execute_result"
    }
   ],
   "source": [
    "X = df.drop(columns=['Price_euros','HDD'])\n",
    "y = np.log(df['Price_euros'])\n",
    "X_train,X_test,y_train,y_test = train_test_split(X,y,test_size=0.15,random_state=3)\n",
    "X_train"
   ]
  },
  {
   "cell_type": "code",
   "execution_count": 50,
   "metadata": {
    "colab": {
     "base_uri": "https://localhost:8080/"
    },
    "id": "P-opExLJecok",
    "outputId": "0678ac52-1f85-438a-f889-31171b3885e0"
   },
   "outputs": [
    {
     "name": "stdout",
     "output_type": "stream",
     "text": [
      "R2 Score: 80.57%\n",
      "MSE: 6.51%\n",
      "MAE: 19.70%\n",
      "Cross Val Accuracy: 81.71%\n"
     ]
    }
   ],
   "source": [
    "ct = ColumnTransformer(\n",
    "    transformers=[\n",
    "        ('onehot', OneHotEncoder(sparse=False, handle_unknown='ignore'), [0,1,3,8,10])\n",
    "    ], remainder='passthrough')\n",
    "\n",
    "pipe = Pipeline(steps=[\n",
    "    ('preprocessor', ct),\n",
    "    ('regressor', LinearRegression())\n",
    "])\n",
    "\n",
    "pipe.fit(X_train, y_train)\n",
    "\n",
    "y_pred = pipe.predict(X_test)\n",
    "\n",
    "r2 = r2_score(y_test, y_pred)\n",
    "mse = mean_squared_error(y_test, y_pred)\n",
    "mae = mean_absolute_error(y_test, y_pred)\n",
    "accuracy = cross_val_score(estimator=pipe, X=X_train, y=y_train, cv=25).mean()\n",
    "\n",
    "print(f\"R2 Score: {r2*100:.2f}%\")\n",
    "print(f\"MSE: {mse*100:.2f}%\")\n",
    "print(f\"MAE: {mae*100:.2f}%\")\n",
    "print(f\"Cross Val Accuracy: {accuracy*100:.2f}%\")\n",
    "\n",
    "model_comparison['MLR w/o HDD'] = [r2, mse, mae, accuracy]\n"
   ]
  },
  {
   "cell_type": "markdown",
   "metadata": {
    "id": "ms073hV06pcC"
   },
   "source": [
    "###Summary on Model Building\n",
    "\n",
    "1. Models were built using both Simple Linear regression and Multi Linear regression as well and a comparison of those models are present in the table below. \n",
    "2. Before starting to create a model, we had been choosing the varaibles based on various factors mostly based on the Analysis section, thus making all the selected variables to be most useful to build a model. \n",
    "3. Despite the facts like the high multicollinearity of Ram and Weight against Price variable or getting a slightly higher accuracy in 3rd model of MultiLinear regression than the final model, trying to choose almost all useful and feature selected variables shall make the model more mature in certain terms and also we need to value the efforts put in to collect these useful data and try to handle and use them in the most effective and efficient ways."
   ]
  },
  {
   "cell_type": "code",
   "execution_count": 51,
   "metadata": {
    "colab": {
     "base_uri": "https://localhost:8080/",
     "height": 297
    },
    "id": "FZGG3Wa78VQC",
    "outputId": "67114423-e21d-45e8-a0ff-d31f5aaa1579"
   },
   "outputs": [
    {
     "data": {
      "text/html": [
       "<div>\n",
       "<style scoped>\n",
       "    .dataframe tbody tr th:only-of-type {\n",
       "        vertical-align: middle;\n",
       "    }\n",
       "\n",
       "    .dataframe tbody tr th {\n",
       "        vertical-align: top;\n",
       "    }\n",
       "\n",
       "    .dataframe thead th {\n",
       "        text-align: right;\n",
       "    }\n",
       "</style>\n",
       "<table border=\"1\" class=\"dataframe\">\n",
       "  <thead>\n",
       "    <tr style=\"text-align: right;\">\n",
       "      <th></th>\n",
       "      <th>R2 Score</th>\n",
       "      <th>MSE</th>\n",
       "      <th>MAE</th>\n",
       "      <th>Cross Val Accuracy</th>\n",
       "    </tr>\n",
       "  </thead>\n",
       "  <tbody>\n",
       "    <tr>\n",
       "      <th>SLR Vs Company</th>\n",
       "      <td>0.131169</td>\n",
       "      <td>368050.151243</td>\n",
       "      <td>465.340754</td>\n",
       "      <td>0.115711</td>\n",
       "    </tr>\n",
       "    <tr>\n",
       "      <th>SLR Vs Ram</th>\n",
       "      <td>0.490053</td>\n",
       "      <td>216021.501975</td>\n",
       "      <td>339.691391</td>\n",
       "      <td>0.557098</td>\n",
       "    </tr>\n",
       "    <tr>\n",
       "      <th>SLR Vs ppi</th>\n",
       "      <td>0.303464</td>\n",
       "      <td>295063.271757</td>\n",
       "      <td>405.559165</td>\n",
       "      <td>0.244633</td>\n",
       "    </tr>\n",
       "    <tr>\n",
       "      <th>SLR Vs Weight</th>\n",
       "      <td>0.013016</td>\n",
       "      <td>418101.559001</td>\n",
       "      <td>518.711173</td>\n",
       "      <td>0.007046</td>\n",
       "    </tr>\n",
       "    <tr>\n",
       "      <th>SLR Vs HDD</th>\n",
       "      <td>-0.023917</td>\n",
       "      <td>433746.972933</td>\n",
       "      <td>514.716099</td>\n",
       "      <td>0.012607</td>\n",
       "    </tr>\n",
       "    <tr>\n",
       "      <th>MLR(final)</th>\n",
       "      <td>0.807011</td>\n",
       "      <td>0.064664</td>\n",
       "      <td>0.196529</td>\n",
       "      <td>0.816972</td>\n",
       "    </tr>\n",
       "    <tr>\n",
       "      <th>MLR w/o Weight</th>\n",
       "      <td>0.800556</td>\n",
       "      <td>0.066827</td>\n",
       "      <td>0.200098</td>\n",
       "      <td>0.805066</td>\n",
       "    </tr>\n",
       "    <tr>\n",
       "      <th>MLR w/o HDD</th>\n",
       "      <td>0.805698</td>\n",
       "      <td>0.065104</td>\n",
       "      <td>0.197033</td>\n",
       "      <td>0.817100</td>\n",
       "    </tr>\n",
       "  </tbody>\n",
       "</table>\n",
       "</div>"
      ],
      "text/plain": [
       "                R2 Score            MSE         MAE  Cross Val Accuracy\n",
       "SLR Vs Company  0.131169  368050.151243  465.340754            0.115711\n",
       "SLR Vs Ram      0.490053  216021.501975  339.691391            0.557098\n",
       "SLR Vs ppi      0.303464  295063.271757  405.559165            0.244633\n",
       "SLR Vs Weight   0.013016  418101.559001  518.711173            0.007046\n",
       "SLR Vs HDD     -0.023917  433746.972933  514.716099            0.012607\n",
       "MLR(final)      0.807011       0.064664    0.196529            0.816972\n",
       "MLR w/o Weight  0.800556       0.066827    0.200098            0.805066\n",
       "MLR w/o HDD     0.805698       0.065104    0.197033            0.817100"
      ]
     },
     "execution_count": 51,
     "metadata": {},
     "output_type": "execute_result"
    }
   ],
   "source": [
    "df_model_comparison = pd.DataFrame.from_dict(model_comparison, orient='index', columns=['R2 Score', 'MSE', 'MAE', 'Cross Val Accuracy'])\n",
    "df_model_comparison"
   ]
  },
  {
   "cell_type": "code",
   "execution_count": 54,
   "metadata": {
    "colab": {
     "base_uri": "https://localhost:8080/",
     "height": 465
    },
    "id": "ZYv2JaHtCkK5",
    "outputId": "bf2a2501-a32e-4851-b733-b997da52546d"
   },
   "outputs": [
    {
     "name": "stdout",
     "output_type": "stream",
     "text": [
      "Train R-squared: 0.8393271865785819\n",
      "Test R-squared: 0.8070111226330221\n",
      "Train Adjusted R-squared: 0.8375336295915521\n",
      "Test Adjusted R-squared: 0.7940733207983643\n",
      "Train MAE: 0.1962705062179443\n",
      "Test MAE: 0.1965289195740125\n",
      "Train MSE: 0.06285662122804252\n",
      "Test MSE: 0.06466408363138583\n",
      "Train RMSE: 0.2507122279188682\n",
      "Test RMSE: 0.2542913361311899\n"
     ]
    },
    {
     "data": {
      "image/png": "[encoded data removed]",
      "text/plain": [
       "<Figure size 432x288 with 1 Axes>"
      ]
     },
     "metadata": {
      "needs_background": "light"
     },
     "output_type": "display_data"
    }
   ],
   "source": [
    "X = df.drop(columns=['Price_euros'])\n",
    "y = np.log(df['Price_euros'])\n",
    "\n",
    "X_train,X_test,y_train,y_test = train_test_split(X,y,test_size=0.15,random_state=3)\n",
    "\n",
    "ct = ColumnTransformer(\n",
    "    transformers=[\n",
    "        ('onehot', OneHotEncoder(sparse=False, handle_unknown='ignore'), [0,1,3,8,11])\n",
    "    ], remainder='passthrough')\n",
    "\n",
    "pipe = Pipeline(steps=[\n",
    "    ('preprocessor', ct),\n",
    "    ('regressor', LinearRegression())\n",
    "])\n",
    "\n",
    "pipe.fit(X_train, y_train)\n",
    "\n",
    "# R-squared and Adjusted R-squared values\n",
    "print('Train R-squared:', pipe.score(X_train, y_train))\n",
    "print('Test R-squared:', pipe.score(X_test, y_test))\n",
    "n = X_train.shape[0]\n",
    "p = X_train.shape[1]\n",
    "train_adj_r2 = 1 - (1 - pipe.score(X_train, y_train)) * (n - 1) / (n - p - 1)\n",
    "print('Train Adjusted R-squared:', train_adj_r2)\n",
    "n = X_test.shape[0]\n",
    "p = X_test.shape[1]\n",
    "test_adj_r2 = 1 - (1 - pipe.score(X_test, y_test)) * (n - 1) / (n - p - 1)\n",
    "print('Test Adjusted R-squared:', test_adj_r2)\n",
    "\n",
    "# Performance comparison on Train and Test Samples\n",
    "y_train_pred = pipe.predict(X_train)\n",
    "y_test_pred = pipe.predict(X_test)\n",
    "print('Train MAE:', mean_absolute_error(y_train, y_train_pred))\n",
    "print('Test MAE:', mean_absolute_error(y_test, y_test_pred))\n",
    "print('Train MSE:', mean_squared_error(y_train, y_train_pred))\n",
    "print('Test MSE:', mean_squared_error(y_test, y_test_pred))\n",
    "print('Train RMSE:', np.sqrt(mean_squared_error(y_train, y_train_pred)))\n",
    "print('Test RMSE:', np.sqrt(mean_squared_error(y_test, y_test_pred)))\n",
    "\n",
    "# Histogram of residual deviance on test data\n",
    "residuals = y_test - y_test_pred\n",
    "plt.hist(residuals, bins=20)\n",
    "plt.xlabel('Residuals')\n",
    "plt.ylabel('Frequency')\n",
    "plt.title('Histogram of Residuals')\n",
    "plt.show()\n"
   ]
  },
  {
   "cell_type": "code",
   "execution_count": 55,
   "metadata": {
    "id": "banuQx9HbE_G"
   },
   "outputs": [],
   "source": [
    "import pickle\n",
    "df.to_csv(\"df.csv\", index=False)\n",
    "pickle.dump(pipe,open('pipe.pkl','wb'))"
   ]
  },
  {
   "cell_type": "code",
   "execution_count": 57,
   "metadata": {
    "colab": {
     "base_uri": "https://localhost:8080/"
    },
    "id": "TrI1BfOwRz-B",
    "outputId": "059279c8-b6cb-43f9-e5e1-df7d9cfc5bec",
    "scrolled": true
   },
   "outputs": [
    {
     "name": "stdout",
     "output_type": "stream",
     "text": [
      "Requirement already satisfied: jedi in /Applications/anaconda3/lib/python3.9/site-packages (0.18.0)\n",
      "Requirement already satisfied: parso<0.9.0,>=0.8.0 in /Applications/anaconda3/lib/python3.9/site-packages (from jedi) (0.8.2)\n",
      "Requirement already satisfied: streamlit in /Applications/anaconda3/lib/python3.9/site-packages (1.12.0)\n",
      "Requirement already satisfied: tzlocal>=1.1 in /Applications/anaconda3/lib/python3.9/site-packages (from streamlit) (4.2)\n",
      "Requirement already satisfied: gitpython!=3.1.19 in /Applications/anaconda3/lib/python3.9/site-packages (from streamlit) (3.1.31)\n",
      "Requirement already satisfied: toml in /Applications/anaconda3/lib/python3.9/site-packages (from streamlit) (0.10.2)\n",
      "Requirement already satisfied: typing-extensions>=3.10.0.0 in /Applications/anaconda3/lib/python3.9/site-packages (from streamlit) (4.4.0)\n",
      "Requirement already satisfied: pympler>=0.9 in /Applications/anaconda3/lib/python3.9/site-packages (from streamlit) (1.0.1)\n",
      "Requirement already satisfied: pyarrow>=4.0 in /Applications/anaconda3/lib/python3.9/site-packages (from streamlit) (11.0.0)\n",
      "Requirement already satisfied: numpy in /Applications/anaconda3/lib/python3.9/site-packages (from streamlit) (1.20.3)\n",
      "Requirement already satisfied: validators>=0.2 in /Applications/anaconda3/lib/python3.9/site-packages (from streamlit) (0.20.0)\n",
      "Requirement already satisfied: protobuf<4,>=3.12 in /Applications/anaconda3/lib/python3.9/site-packages (from streamlit) (3.19.6)\n",
      "Requirement already satisfied: cachetools>=4.0 in /Applications/anaconda3/lib/python3.9/site-packages (from streamlit) (5.2.1)\n",
      "Requirement already satisfied: tornado>=5.0 in /Applications/anaconda3/lib/python3.9/site-packages (from streamlit) (6.1)\n",
      "Requirement already satisfied: pandas>=0.21.0 in /Applications/anaconda3/lib/python3.9/site-packages (from streamlit) (1.3.4)\n",
      "Requirement already satisfied: rich>=10.11.0 in /Applications/anaconda3/lib/python3.9/site-packages (from streamlit) (13.3.2)\n",
      "Requirement already satisfied: pydeck>=0.1.dev5 in /Applications/anaconda3/lib/python3.9/site-packages (from streamlit) (0.8.0)\n",
      "Requirement already satisfied: python-dateutil in /Applications/anaconda3/lib/python3.9/site-packages (from streamlit) (2.8.2)\n",
      "Requirement already satisfied: requests>=2.4 in /Applications/anaconda3/lib/python3.9/site-packages (from streamlit) (2.26.0)\n",
      "Requirement already satisfied: click>=7.0 in /Applications/anaconda3/lib/python3.9/site-packages (from streamlit) (8.0.3)\n",
      "Requirement already satisfied: altair>=3.2.0 in /Applications/anaconda3/lib/python3.9/site-packages (from streamlit) (4.2.2)\n",
      "Requirement already satisfied: importlib-metadata>=1.4 in /Applications/anaconda3/lib/python3.9/site-packages (from streamlit) (4.8.1)\n",
      "Requirement already satisfied: packaging>=14.1 in /Applications/anaconda3/lib/python3.9/site-packages (from streamlit) (23.0)\n",
      "Requirement already satisfied: semver in /Applications/anaconda3/lib/python3.9/site-packages (from streamlit) (2.13.0)\n",
      "Requirement already satisfied: blinker>=1.0.0 in /Applications/anaconda3/lib/python3.9/site-packages (from streamlit) (1.5)\n",
      "Requirement already satisfied: pillow>=6.2.0 in /Applications/anaconda3/lib/python3.9/site-packages (from streamlit) (8.4.0)\n",
      "Requirement already satisfied: jinja2 in /Applications/anaconda3/lib/python3.9/site-packages (from altair>=3.2.0->streamlit) (2.11.3)\n",
      "Requirement already satisfied: entrypoints in /Applications/anaconda3/lib/python3.9/site-packages (from altair>=3.2.0->streamlit) (0.3)\n",
      "Requirement already satisfied: toolz in /Applications/anaconda3/lib/python3.9/site-packages (from altair>=3.2.0->streamlit) (0.11.1)\n",
      "Requirement already satisfied: jsonschema>=3.0 in /Applications/anaconda3/lib/python3.9/site-packages (from altair>=3.2.0->streamlit) (3.2.0)\n",
      "Requirement already satisfied: gitdb<5,>=4.0.1 in /Applications/anaconda3/lib/python3.9/site-packages (from gitpython!=3.1.19->streamlit) (4.0.10)\n",
      "Requirement already satisfied: zipp>=0.5 in /Applications/anaconda3/lib/python3.9/site-packages (from importlib-metadata>=1.4->streamlit) (3.6.0)\n",
      "Requirement already satisfied: pytz>=2017.3 in /Applications/anaconda3/lib/python3.9/site-packages (from pandas>=0.21.0->streamlit) (2021.3)\n",
      "Requirement already satisfied: six>=1.5 in /Applications/anaconda3/lib/python3.9/site-packages (from python-dateutil->streamlit) (1.16.0)\n",
      "Requirement already satisfied: charset-normalizer~=2.0.0 in /Applications/anaconda3/lib/python3.9/site-packages (from requests>=2.4->streamlit) (2.0.4)\n",
      "Requirement already satisfied: idna<4,>=2.5 in /Applications/anaconda3/lib/python3.9/site-packages (from requests>=2.4->streamlit) (3.2)\n",
      "Requirement already satisfied: certifi>=2017.4.17 in /Applications/anaconda3/lib/python3.9/site-packages (from requests>=2.4->streamlit) (2022.12.7)\n",
      "Requirement already satisfied: urllib3<1.27,>=1.21.1 in /Applications/anaconda3/lib/python3.9/site-packages (from requests>=2.4->streamlit) (1.26.7)\n",
      "Requirement already satisfied: markdown-it-py<3.0.0,>=2.2.0 in /Applications/anaconda3/lib/python3.9/site-packages (from rich>=10.11.0->streamlit) (2.2.0)\n",
      "Requirement already satisfied: pygments<3.0.0,>=2.13.0 in /Applications/anaconda3/lib/python3.9/site-packages (from rich>=10.11.0->streamlit) (2.14.0)\n",
      "Requirement already satisfied: pytz-deprecation-shim in /Applications/anaconda3/lib/python3.9/site-packages (from tzlocal>=1.1->streamlit) (0.1.0.post0)\n",
      "Requirement already satisfied: decorator>=3.4.0 in /Applications/anaconda3/lib/python3.9/site-packages (from validators>=0.2->streamlit) (5.1.0)\n",
      "Requirement already satisfied: smmap<6,>=3.0.1 in /Applications/anaconda3/lib/python3.9/site-packages (from gitdb<5,>=4.0.1->gitpython!=3.1.19->streamlit) (5.0.0)\n",
      "Requirement already satisfied: MarkupSafe>=0.23 in /Applications/anaconda3/lib/python3.9/site-packages (from jinja2->altair>=3.2.0->streamlit) (1.1.1)\n",
      "Requirement already satisfied: setuptools in /Applications/anaconda3/lib/python3.9/site-packages (from jsonschema>=3.0->altair>=3.2.0->streamlit) (58.0.4)\n",
      "Requirement already satisfied: attrs>=17.4.0 in /Applications/anaconda3/lib/python3.9/site-packages (from jsonschema>=3.0->altair>=3.2.0->streamlit) (21.2.0)\n",
      "Requirement already satisfied: pyrsistent>=0.14.0 in /Applications/anaconda3/lib/python3.9/site-packages (from jsonschema>=3.0->altair>=3.2.0->streamlit) (0.18.0)\n",
      "Requirement already satisfied: mdurl~=0.1 in /Applications/anaconda3/lib/python3.9/site-packages (from markdown-it-py<3.0.0,>=2.2.0->rich>=10.11.0->streamlit) (0.1.2)\n",
      "Requirement already satisfied: tzdata in /Applications/anaconda3/lib/python3.9/site-packages (from pytz-deprecation-shim->tzlocal>=1.1->streamlit) (2022.7)\n"
     ]
    }
   ],
   "source": [
    "!pip install jedi\n",
    "!pip install streamlit"
   ]
  }
 ],
 "metadata": {
  "colab": {
   "provenance": []
  },
  "kernelspec": {
   "display_name": "Python 3 (ipykernel)",
   "language": "python",
   "name": "python3"
  },
  "language_info": {
   "codemirror_mode": {
    "name": "ipython",
    "version": 3
   },
   "file_extension": ".py",
   "mimetype": "text/x-python",
   "name": "python",
   "nbconvert_exporter": "python",
   "pygments_lexer": "ipython3",
   "version": "3.9.7"
  }
 },
 "nbformat": 4,
 "nbformat_minor": 1
}
